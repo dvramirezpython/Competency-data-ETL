{
 "cells": [
  {
   "cell_type": "markdown",
   "metadata": {},
   "source": [
    "<h1 style=\"text-align: center;\">Script for creating and analyzing longitudinal data from the Tec21 academic model Cohort 2019 and 2020</h1>\n",
    "\n",
    "#### School: Engineering and Science\n",
    "#### Period: AD2019-FJ2022\n",
    "\n",
    "#### Table of contents                                                                                                                \n",
    "                                            \n",
    "- [1. Datasets creation](#1.-Datasets-creation)                                                                               \n",
    "    - [1.1 Data subset extraction](#1.1-Data-subset-extraction)                                                                     \n",
    "    - [1.2 Statistical description of the selected variables](#1.2-Statistical-description-of-the-selected-variables)               \n",
    "    - [1.3 Graphical description of the selected variables](#1.3-Graphical-description-of-the-selected-variables)                   "
   ]
  },
  {
   "cell_type": "code",
   "execution_count": null,
   "metadata": {},
   "outputs": [],
   "source": [
    "# Importing needed libraries\n",
    "import matplotlib.pyplot as plt\n",
    "import pandas as pd\n",
    "import warnings\n",
    "import plotly.express as px\n",
    "from ipywidgets import widgets\n",
    "from statsmodels.formula.api import ols\n",
    "from statsmodels.stats.multitest import multipletests\n",
    "import plotly.express as px\n",
    "warnings.filterwarnings('ignore')\n",
    "path_files = r'EICData'"
   ]
  },
  {
   "cell_type": "code",
   "execution_count": null,
   "metadata": {},
   "outputs": [],
   "source": [
    "# Load the dataset\n",
    "full_df = pd.read_csv(f'EICData\\Transformed_full_df_with_studentid_v1.0.csv', index_col='Unnamed: 0')\n",
    "print(f'Dataframe loaded! \\n The tidy dataframe has {len(full_df.index)} rows and {len(full_df.columns)} columns.')"
   ]
  },
  {
   "cell_type": "code",
   "execution_count": null,
   "metadata": {},
   "outputs": [],
   "source": [
    "# Temporary code for checking dataset\n",
    "\n",
    "len(full_df[(full_df['program.major_id'] == 'IBQ')\n",
    "        & (full_df['competence.type'] == 'Disciplinary')]['student.id'].unique())"
   ]
  },
  {
   "cell_type": "markdown",
   "metadata": {},
   "source": [
    "### 1.1-Data-subset-extraction"
   ]
  },
  {
   "cell_type": "code",
   "execution_count": null,
   "metadata": {},
   "outputs": [],
   "source": [
    "# Select the Cohort\n",
    "atts = full_df['student.cohort.id'].unique().tolist()\n",
    "btn_atts = widgets.Button(description='Select')\n",
    "mult_choice = widgets.SelectMultiple(\n",
    "    options=atts,\n",
    "    description='Select cohort',\n",
    "    disabled=False\n",
    ")\n",
    "display(mult_choice)\n",
    "display(btn_atts)\n",
    "def btn_select_att(btn_atts):\n",
    "    global cohort\n",
    "    cohort = list(mult_choice.value)\n",
    "btn_atts.on_click(btn_select_att)"
   ]
  },
  {
   "cell_type": "markdown",
   "metadata": {},
   "source": [
    "#### Select programs"
   ]
  },
  {
   "cell_type": "code",
   "execution_count": null,
   "metadata": {},
   "outputs": [],
   "source": [
    "# Select the programs\n",
    "programs = full_df['program.major_id'].unique().tolist()\n",
    "atts = full_df['program.major_id'].unique().tolist()\n",
    "btn_atts = widgets.Button(description='Select')\n",
    "mult_choice = widgets.SelectMultiple(\n",
    "    options=atts,\n",
    "    description='Select programs',\n",
    "    disabled=False\n",
    ")\n",
    "display(mult_choice)\n",
    "display(btn_atts)\n",
    "def btn_select_att(btn_atts):\n",
    "    global programs\n",
    "    programs = list(mult_choice.value)\n",
    "btn_atts.on_click(btn_select_att)"
   ]
  },
  {
   "cell_type": "markdown",
   "metadata": {},
   "source": [
    "#### Select region"
   ]
  },
  {
   "cell_type": "code",
   "execution_count": null,
   "metadata": {},
   "outputs": [],
   "source": [
    "# Select the region\n",
    "regions = full_df['campus.region_name'].unique().tolist()\n",
    "atts = full_df['campus.region_name'].unique().tolist()\n",
    "btn_atts = widgets.Button(description='Select')\n",
    "mult_choice = widgets.SelectMultiple(\n",
    "    options=atts,\n",
    "    description='Select regions',\n",
    "    disabled=False\n",
    ")\n",
    "display(mult_choice)\n",
    "display(btn_atts)\n",
    "def btn_select_att(btn_atts):\n",
    "    global regions\n",
    "    regions = list(mult_choice.value)\n",
    "btn_atts.on_click(btn_select_att)"
   ]
  },
  {
   "cell_type": "markdown",
   "metadata": {},
   "source": [
    "#### Select sex"
   ]
  },
  {
   "cell_type": "code",
   "execution_count": null,
   "metadata": {},
   "outputs": [],
   "source": [
    "# Select the sex\n",
    "sex = full_df['student.isWoman'].unique().tolist()\n",
    "atts = full_df['student.isWoman'].unique().tolist()\n",
    "btn_atts = widgets.Button(description='Select')\n",
    "mult_choice = widgets.SelectMultiple(\n",
    "    options=atts,\n",
    "    description='Select sex',\n",
    "    disabled=False\n",
    ")\n",
    "display(mult_choice)\n",
    "display(btn_atts)\n",
    "def btn_select_att(btn_atts):\n",
    "    global sex\n",
    "    sex = list(mult_choice.value)\n",
    "btn_atts.on_click(btn_select_att)"
   ]
  },
  {
   "cell_type": "markdown",
   "metadata": {},
   "source": [
    "#### Select grouping var"
   ]
  },
  {
   "cell_type": "code",
   "execution_count": null,
   "metadata": {},
   "outputs": [],
   "source": [
    "# Select the region\n",
    "atts = ['campus.region_name', 'student.cohort.id','program.major_id', 'student.isWoman']\n",
    "btn_atts = widgets.Button(description='Select')\n",
    "cb_list = widgets.Dropdown(\n",
    "    options=atts,\n",
    "    description='Select grouping var',\n",
    "    disabled=False,\n",
    ")\n",
    "display(cb_list)\n",
    "display(btn_atts)\n",
    "def btn_select_att(btn_atts):\n",
    "    global grouping_var\n",
    "    grouping_var = cb_list.value\n",
    "btn_atts.on_click(btn_select_att)"
   ]
  },
  {
   "cell_type": "code",
   "execution_count": null,
   "metadata": {},
   "outputs": [],
   "source": [
    "cohort_df = full_df[(full_df['student.cohort.id'].isin(cohort))\n",
    "                    & (full_df['program.major_id'].isin(programs))\n",
    "                    & (full_df['campus.region_name'].isin(regions))\n",
    "                    & (full_df['student.isWoman'].isin(sex))]\n",
    "assert (set(cohort_df['student.cohort.id'].unique()) == set(cohort)) \\\n",
    "        & (set(cohort_df['program.major_id'].unique()) == set(programs)) \\\n",
    "        & (set(cohort_df['campus.region_name'].unique()) == set(regions)) \\\n",
    "        & (set(cohort_df['student.isWoman'].unique()) == set(sex)) \\\n",
    "                , f'Error! Cohort column includes {existing_cohort} and selected cohort is {cohort}'\n",
    "print(f'Selected dataframe has {len(cohort_df.index)} rows for:\\n cohort(s) {cohort},\\n program(s) {programs},\\n region(s) {regions},\\n and sex {sex}.')"
   ]
  },
  {
   "cell_type": "code",
   "execution_count": null,
   "metadata": {},
   "outputs": [],
   "source": [
    "# Group by student_id and aggregate semesters into a set\n",
    "grouped = cohort_df.groupby('student.id')['semesters_from.enrollment'].apply(set).reset_index()\n",
    "\n",
    "# Filter students who have semesters 1, 2, 3, 4, 5, and 6\n",
    "filtered_students = grouped[grouped['semesters_from.enrollment'].apply(lambda x: {1, 2, 3, 4, 5, 6}.issubset(x))]\n",
    "\n",
    "# Get the list of student IDs who meet the criteria\n",
    "valid_student_ids = filtered_students['student.id']\n",
    "\n",
    "# Filtering rows belonging to the semesters 1, 2, 3, 4, 5, and 6.\n",
    "filtered_cohort = cohort_df[cohort_df['student.id'].isin(valid_student_ids) \n",
    "                            & cohort_df['semesters_from.enrollment'].isin([1, 2, 3, 4, 5, 6])]\n",
    "\n",
    "len(filtered_cohort['student.id'].unique())"
   ]
  },
  {
   "cell_type": "code",
   "execution_count": null,
   "metadata": {},
   "outputs": [],
   "source": [
    "sem_list = filtered_cohort['semesters_from.enrollment'].unique()\n",
    "region_list = filtered_cohort['campus.region_name'].unique()\n",
    "assert set(sem_list) == {1, 2, 3, 4, 5, 6}, f'Error! There is at least one incorrect semester'\n",
    "print(f'Semesters list {sem_list}')\n",
    "print(f'Regions: {region_list}')"
   ]
  },
  {
   "cell_type": "markdown",
   "metadata": {},
   "source": [
    "#### Updating DR region with the last region where the student finalized the studies"
   ]
  },
  {
   "cell_type": "code",
   "execution_count": null,
   "metadata": {},
   "outputs": [],
   "source": [
    "dr_studID_list = list(filtered_cohort[filtered_cohort['campus.region_name'] == 'DR']['student.id'].unique())\n",
    "len(dr_studID_list)"
   ]
  },
  {
   "cell_type": "code",
   "execution_count": null,
   "metadata": {},
   "outputs": [],
   "source": [
    "for stud_id in dr_studID_list:\n",
    "    # Get all regions of the student\n",
    "    campus_list = list(filtered_cohort[filtered_cohort['student.id'] == stud_id]['campus.region_name'].unique())\n",
    "    # Drop DR region if it exists\n",
    "    if 'DR' in campus_list:\n",
    "        campus_list.remove('DR')\n",
    "    # Assign the last region where the student finalized the studies\n",
    "    if campus_list:  \n",
    "        filtered_cohort.loc[filtered_cohort['student.id'] == stud_id, 'campus.region_name'] = campus_list[-1]"
   ]
  },
  {
   "cell_type": "code",
   "execution_count": null,
   "metadata": {},
   "outputs": [],
   "source": [
    "assert len(filtered_cohort['campus.region_name'].unique()) == 4, 'Error number of regions differ from 4' "
   ]
  },
  {
   "cell_type": "markdown",
   "metadata": {},
   "source": [
    "##### Computing the Observed_competencies_ratio for students"
   ]
  },
  {
   "cell_type": "code",
   "execution_count": null,
   "metadata": {},
   "outputs": [],
   "source": [
    "# Group by student ID and calculate the ratio of True evaluations\n",
    "ratio_df = filtered_cohort.groupby(['student.id', 'semesters_from.enrollment'])['subcompetence.level_assigned'].mean().reset_index()\n",
    "ratio_df.columns = ['student.id', 'semesters_from.enrollment', 'Observed_ratio']\n",
    "\n",
    "# Merge the ratio back to the original dataframe\n",
    "filtered_cohort = filtered_cohort.merge(ratio_df, on=['student.id', 'semesters_from.enrollment'])"
   ]
  },
  {
   "cell_type": "code",
   "execution_count": null,
   "metadata": {},
   "outputs": [],
   "source": [
    "tuple_df = ratio_df.groupby(['student.id'])['semesters_from.enrollment'].unique().apply(tuple)\n",
    "assert tuple_df[tuple_df != (1, 2, 3, 4, 5, 6)].empty, 'Error! There are Students with semesters different to [1, 2, and 3]'"
   ]
  },
  {
   "cell_type": "markdown",
   "metadata": {},
   "source": [
    "#### Modifying academic program."
   ]
  },
  {
   "cell_type": "markdown",
   "metadata": {},
   "source": [
    " Version 1, all program into 4 knowledge areas."
   ]
  },
  {
   "cell_type": "code",
   "execution_count": null,
   "metadata": {},
   "outputs": [],
   "source": [
    "# Mapping academic programs to 4 knowledge area\n",
    "program_mapping = {\n",
    "    'IIT' : 'IIT',\n",
    "    'IIS' : 'IIT',\n",
    "    'IMT' : 'IIT',\n",
    "    'IC'  : 'IIT',\n",
    "    'IE'  : 'IIT',\n",
    "    'IID' : 'IIT',\n",
    "    'IM'  : 'IIT',\n",
    "    'IMD' : 'IIT',\n",
    "    'ICI' : 'ICI',\n",
    "    'IDM' : 'ICI',\n",
    "    'INA' : 'ICI',\n",
    "    'IFI' : 'ICI',\n",
    "    'ICT' : 'ICT',\n",
    "    'ITC' : 'ICT',\n",
    "    'IRS' : 'ICT',\n",
    "    'ITD' : 'ICT',\n",
    "    'IBQ' : 'IBQ',\n",
    "    'IDS' : 'IBQ',\n",
    "    'IBT' : 'IBQ', \n",
    "    'IQ'  : 'IBQ',\n",
    "    'IAG' : 'IBQ',\n",
    "    'IAL' : 'IBQ'\n",
    "}\n",
    "filtered_cohort['program.major_id'] = filtered_cohort['program.major_id'].replace(program_mapping)\n",
    "assert len(filtered_cohort['program.major_id'].unique()) == 4, 'Error knowledge areas differ from 4'\n"
   ]
  },
  {
   "cell_type": "markdown",
   "metadata": {},
   "source": [
    "Version 2. Transforming entry program data into specific programs."
   ]
  },
  {
   "cell_type": "code",
   "execution_count": null,
   "metadata": {},
   "outputs": [],
   "source": [
    "# def transform_program_2(group):\n",
    "#     programs = list(group['program.major_id'].unique())\n",
    "#     if len(programs) > 1:\n",
    "#         group['program.major_id'] = programs[1] if programs[0] in ['IIT', 'ICT', 'IBQ', 'ICI'] else programs[0]\n",
    "#     return group\n",
    "\n",
    "def transform_program_2(group):\n",
    "    programs = list(group['program.major_id'].unique())\n",
    "    if len(programs) > 1:\n",
    "        selected_program = programs[1] if programs[0] in ['IIT', 'ICT', 'IBQ', 'ICI'] else programs[0]\n",
    "        group['program.major_id'] = selected_program\n",
    "    return group\n",
    "\n",
    "filtered_cohort = filtered_cohort.groupby('student.id', as_index=False).apply(transform_program_2)"
   ]
  },
  {
   "cell_type": "markdown",
   "metadata": {},
   "source": [
    "##### Filter dataframe"
   ]
  },
  {
   "cell_type": "code",
   "execution_count": null,
   "metadata": {},
   "outputs": [],
   "source": [
    "filtered_cohort = filtered_cohort.drop_duplicates(subset= ['student.id', 'student.nationality', 'student_originSchool.isITESM', \n",
    "                                                           'student.cohort.id', 'semesters_from.enrollment','student.isWoman', \n",
    "                                                           'campus.region_name', 'program.major_id', 'Observed_ratio'], \n",
    "                                                  keep='first')\n",
    "longitudinal_df = filtered_cohort[['student.id', 'student.nationality', 'student_originSchool.isITESM', \n",
    "                                   'student.cohort.id', 'semesters_from.enrollment','student.isWoman', \n",
    "                                   'campus.region_name', 'program.major_id', 'Observed_ratio']]\n",
    "longitudinal_df.set_index(keys=['student.id'], inplace=True)"
   ]
  },
  {
   "cell_type": "code",
   "execution_count": null,
   "metadata": {},
   "outputs": [],
   "source": [
    "assert len(longitudinal_df.index) == len(filtered_cohort['student.id'].unique()) * 6, 'Error! Rows number mismatch student IDs *times 3'\n",
    "# longitudinal_df.sort_values(by='student.id')"
   ]
  },
  {
   "cell_type": "markdown",
   "metadata": {},
   "source": [
    "<font color='blue'>**Until here, we have the data filtered by students, but there are multiple rows for each student. Yet, we need to transform it to add Observed competencies ratio as columns for each student, instead of as nwe rows**</font>"
   ]
  },
  {
   "cell_type": "code",
   "execution_count": null,
   "metadata": {},
   "outputs": [],
   "source": [
    "# Pivot the DataFrame\n",
    "pivot_df = longitudinal_df.pivot(columns='semesters_from.enrollment', values='Observed_ratio')\n",
    "\n",
    "# Rename the columns to include the semester information\n",
    "pivot_df.columns = [f'Observed_ratio{col}' for col in pivot_df.columns]\n",
    "\n",
    "# Reset the index to make 'student.id' a column again\n",
    "pivot_df = pivot_df.reset_index()\n",
    "\n",
    "# Add other columns\n",
    "pivot_df = pivot_df.merge(longitudinal_df[longitudinal_df['semesters_from.enrollment'] == 1], on='student.id').drop(['Observed_ratio',\n",
    "                                                                                                                     'semesters_from.enrollment'], axis=1)\n",
    "# Visualize the tidy dataframe\n",
    "pivot_df"
   ]
  },
  {
   "cell_type": "code",
   "execution_count": null,
   "metadata": {},
   "outputs": [],
   "source": [
    "pivot_df.to_csv(f'EICData\\LongitudinalData_Cohort_{cohort}_EntryPrograms_6semesters_4regions.csv')"
   ]
  },
  {
   "cell_type": "markdown",
   "metadata": {},
   "source": [
    "### 1.2-Statistical-description-of-the-selected-variables"
   ]
  },
  {
   "cell_type": "markdown",
   "metadata": {},
   "source": [
    "##### Describe numeric variables "
   ]
  },
  {
   "cell_type": "code",
   "execution_count": null,
   "metadata": {},
   "outputs": [],
   "source": [
    "pivot_df.describe()"
   ]
  },
  {
   "cell_type": "markdown",
   "metadata": {},
   "source": [
    "##### Describe categorical and boolean variables"
   ]
  },
  {
   "cell_type": "code",
   "execution_count": null,
   "metadata": {},
   "outputs": [],
   "source": [
    "categorical_cols = pivot_df.select_dtypes(include=['object', 'bool', 'category'])\n",
    "categorical_cols"
   ]
  },
  {
   "cell_type": "code",
   "execution_count": null,
   "metadata": {},
   "outputs": [],
   "source": [
    "for col in categorical_cols:\n",
    "    print(f\"Column: {col}\")\n",
    "    print(f\"Number of unique categories: {pivot_df[col].nunique()}\")\n",
    "    print(f\"Mode: {pivot_df[col].mode()[0]}\")\n",
    "    print(f\"Value counts:\\n{pivot_df[col].value_counts()}\")\n",
    "    print(\"-\" * 40)"
   ]
  },
  {
   "cell_type": "code",
   "execution_count": null,
   "metadata": {},
   "outputs": [],
   "source": [
    "print(longitudinal_df.info())"
   ]
  },
  {
   "cell_type": "code",
   "execution_count": null,
   "metadata": {},
   "outputs": [],
   "source": [
    "longitudinal_df.describe()"
   ]
  },
  {
   "cell_type": "code",
   "execution_count": null,
   "metadata": {},
   "outputs": [],
   "source": [
    "print(longitudinal_df.isnull().sum())"
   ]
  },
  {
   "cell_type": "markdown",
   "metadata": {},
   "source": [
    "### 1.3-Graphical-description-of-the-selected-variables"
   ]
  },
  {
   "cell_type": "code",
   "execution_count": null,
   "metadata": {},
   "outputs": [],
   "source": [
    "for col in categorical_cols:\n",
    "    fig = px.bar(\n",
    "        pivot_df[col].value_counts().reset_index(),\n",
    "        x=col, \n",
    "        y='count',\n",
    "        title=f'Distribution of {col}',\n",
    "        labels={'index': col, col: 'Count'},\n",
    "        text_auto=True\n",
    "    )\n",
    "    fig.update_layout(\n",
    "        xaxis_title=col,\n",
    "        yaxis_title='Count',\n",
    "        title_x=0.5,  # Center the title\n",
    "        xaxis_tickangle=-45  # Rotate x-axis labels if needed\n",
    "    )\n",
    "    fig.show()"
   ]
  },
  {
   "cell_type": "code",
   "execution_count": null,
   "metadata": {},
   "outputs": [],
   "source": [
    "i = 0\n",
    "for col in categorical_cols:\n",
    "    # Prepare the data for the pie chart\n",
    "    pie_data = pivot_df[col].value_counts().reset_index()\n",
    "    pie_data.columns = [col, 'count']\n",
    "    \n",
    "    # Create the pie chart\n",
    "    fig = px.pie(\n",
    "        pie_data, \n",
    "        names=col,   # Categorical column for slices\n",
    "        values='count',  # Numerical values\n",
    "        #title=f'Distribution of {col}',  # Title of the plot\n",
    "        labels={col: 'Category', 'count': 'Count'},  # Customize labels\n",
    "        hole=0,  # Optional: Adds a hole for a donut-style chart\n",
    "    )\n",
    "    \n",
    "    fig.update_traces(\n",
    "        textposition='inside',  # Place labels inside the slices\n",
    "        textinfo='label+value+percent',  # Show both percentage and category inside the pie\n",
    "        showlegend=False,  # Hide external legend\n",
    "        textfont_size=38,\n",
    "        marker=dict(\n",
    "            colors=px.colors.sequential.Greys,  # Use grayscale colors\n",
    "            line=dict(color='black', width=2)  # Add borders with black color and width of 2\n",
    "        )\n",
    "    )\n",
    "        \n",
    "    fig.update_layout(\n",
    "        title_x=0.5,  # Center the title\n",
    "        title_font_size=38,  # Adjust title font size\n",
    "        height=600,  # Adjust the overall height of the chart\n",
    "        width=600,  # Adjust the overall width of the chart\n",
    "    )\n",
    "\n",
    "    # Show the figure\n",
    "    fig.show()\n",
    "    i+=1"
   ]
  },
  {
   "cell_type": "code",
   "execution_count": null,
   "metadata": {},
   "outputs": [],
   "source": [
    "for col in longitudinal_df.columns:\n",
    "  longitudinal_df.boxplot(by=col, column='Observed_ratio')\n",
    "  plt.suptitle('')\n",
    "  plt.title(f'Boxplots of Observed_ratio by {col}')\n",
    "  plt.show()"
   ]
  }
 ],
 "metadata": {
  "kernelspec": {
   "display_name": "jupytercudaenv",
   "language": "python",
   "name": "python3"
  },
  "language_info": {
   "codemirror_mode": {
    "name": "ipython",
    "version": 3
   },
   "file_extension": ".py",
   "mimetype": "text/x-python",
   "name": "python",
   "nbconvert_exporter": "python",
   "pygments_lexer": "ipython3",
   "version": "3.8.3"
  }
 },
 "nbformat": 4,
 "nbformat_minor": 2
}

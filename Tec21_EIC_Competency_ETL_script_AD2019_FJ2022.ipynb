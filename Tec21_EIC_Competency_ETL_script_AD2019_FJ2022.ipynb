{
 "cells": [
  {
   "cell_type": "markdown",
   "metadata": {},
   "source": [
    "<h1 style=\"text-align: center;\">Script for analyzing the competency evaluation data obtained from the Tec21 academic model</h1>\n",
    "\n",
    "#### School: Engineering and Science\n",
    "#### Period: AD2019-FJ2022\n",
    "\n",
    "#### Table of contents                                                                                                                \n",
    "                                            \n",
    "- [1. Explanation about the programs and data structure](#1.-Explanation-about-the-programs-and-data-structure)                     \n",
    "- [2. Data load and cleaning](#2.-Data-load-and-cleaning)                                                                               \n",
    "- [3. Data transformation](#3.-Data-transformation)                                                                                 "
   ]
  },
  {
   "cell_type": "markdown",
   "metadata": {},
   "source": [
    "## 1. Explanation about the programs and data structure"
   ]
  },
  {
   "cell_type": "markdown",
   "metadata": {},
   "source": [
    "Groups of programs\n",
    "<table cellspacing=\"0\" width=\"602\">\n",
    "              <tbody><tr bgcolor=\"#D0DDF0\">\n",
    "                <th colspan=\"4\" bgcolor=\"#E1E8F5\"><H3><p align=\"center\">School of Engineering and Science</p></H3></th>\n",
    "              </tr>\n",
    "              <tr>\n",
    "                <th colspan=\"4\" bgcolor=\"#E2E2E2\"><div align=\"center\">\n",
    "                  Bioingeniería  y Procesos Químicos\n",
    "                </div></th>\n",
    "              </tr>\n",
    "              <tr>\n",
    "                <th bgcolor=\"#E2E2E2\">&nbsp;</th>\n",
    "                <th bgcolor=\"#E2E2E2\"><div align=\"left\">Siglas</div></th>\n",
    "                <th bgcolor=\"#E2E2E2\"><div align=\"left\">CIP</div></th>\n",
    "                <th bgcolor=\"#E2E2E2\">Nombre del programa</th>\n",
    "              </tr>\n",
    "              <tr class=\"even\">\n",
    "                <td><div align=\"center\">*</div></td>\n",
    "                <td><div align=\"left\"><a href=\"https://samp.itesm.mx/Programas/VistaPrograma?clave=IBQ19&amp;modoVista=Default&amp;idioma=ES&amp;cols=0\">IBQ</a></div></td>\n",
    "                <td><div align=\"left\">261201</div></td>\n",
    "                <td><div align=\"left\">\tIngeniería - Bioingeniería y Procesos Químicos (avenida)\n",
    "                / Exploración</div></td>\n",
    "              </tr>\n",
    "              <tr>\n",
    "                <td class=\"even\"><div align=\"center\">14</div></td>\n",
    "                <td class=\"even\"><div align=\"left\"><a class=\"link\" href=\"https://samp.itesm.mx/Programas/VistaPrograma?clave=IAG19&amp;modoVista=Default&amp;idioma=ES&amp;cols=0\">IAG </a></div></td>\n",
    "                <td class=\"even\"><div align=\"left\">011102</div></td>\n",
    "                <td class=\"even\"><div align=\"left\">Ingeniería en Biosistemas Agroalimentarios</div></td>\n",
    "              </tr>\n",
    "              <tr class=\"even\">\n",
    "                <td><div align=\"center\">15</div></td>\n",
    "                <td><div align=\"left\"><a href=\"https://samp.itesm.mx/Programas/VistaPrograma?clave=IAL19&amp;modoVista=Default&amp;idioma=ES&amp;cols=0\">IAL</a><a href=\"https://samp.itesm.mx/Programas/VistaPrograma?clave=IIA07\"></a></div></td>\n",
    "                <td><div align=\"left\">011002</div></td>\n",
    "                <td><div align=\"left\">Ingeniería en Alimentos</div></td>\n",
    "              </tr>\n",
    "              <tr>\n",
    "                <td class=\"even\"><div align=\"center\">16</div></td>\n",
    "                <td class=\"even\"><div align=\"left\"><a href=\"https://samp.itesm.mx/Programas/VistaPrograma?clave=IBT19&amp;modoVista=Default&amp;idioma=ES&amp;cols=0\" style=\"TEXT-TRANSFORM: none; COLOR: #6699cc; TEXT-DECORATION: underline\" #invalid_attr_id=\"11px Verdana, Arial, Helvetica, sans-serif\">IBT</a></div></td>\n",
    "                <td class=\"even\"><div align=\"left\">261201</div></td>\n",
    "                <td class=\"even\"><div align=\"left\"><span style=\"mso-ansi-language: ES-MX\" lang=\"ES-MX\" xml:lang=\"ES-MX\"><span s=\"s\">Ingeniería en Biotecnología</span></span></div></td>\n",
    "              </tr>\n",
    "              <tr class=\"even\">\n",
    "                <td><div align=\"center\">17</div></td>\n",
    "                <td><div align=\"left\"><a href=\"https://samp.itesm.mx/Programas/VistaPrograma?clave=IDS19&amp;modoVista=Default&amp;idioma=ES&amp;cols=0\">IDS</a></div></td>\n",
    "                <td><div align=\"left\">141401</div></td>\n",
    "                <td><div align=\"left\"><span style=\"mso-ansi-language: ES-MX\" lang=\"ES-MX\" xml:lang=\"ES-MX\"><span s=\"s\">Ingeniería en Desarrollo Sustentable</span></span></div></td>\n",
    "              </tr>\n",
    "              <tr>\n",
    "                <td class=\"even\"><div align=\"center\">18</div></td>\n",
    "                <td class=\"even\"><div align=\"left\"><a href=\"https://samp.itesm.mx/Programas/VistaPrograma?clave=IQ 19&amp;modoVista=Default&amp;idioma=ES&amp;cols=0\" style=\"TEXT-TRANSFORM: none; COLOR: #6699cc; TEXT-DECORATION: underline\" #invalid_attr_id=\"11px Verdana, Arial, Helvetica, sans-serif\">IQ</a></div></td>\n",
    "                <td class=\"even\"><div align=\"left\">140701</div></td>\n",
    "                <td class=\"even\"><div align=\"left\"><span style=\"mso-ansi-language: ES-MX\" lang=\"ES-MX\" xml:lang=\"ES-MX\"><span s=\"s\"> Ingeniería Química</span></span></div></td>\n",
    "              </tr>\n",
    "              <tr>\n",
    "                <th colspan=\"4\" bgcolor=\"#E2E2E2\"><div align=\"center\">Ciencias Aplicadas</div></th>\n",
    "              </tr>\n",
    "              <tr>\n",
    "                <th bgcolor=\"#E2E2E2\">&nbsp;</th>\n",
    "                <th bgcolor=\"#E2E2E2\"><div align=\"left\">Siglas</div></th>\n",
    "                <th bgcolor=\"#E2E2E2\"><div align=\"left\">CIP</div></th>\n",
    "                <th bgcolor=\"#E2E2E2\">Nombre del programa</th>\n",
    "              </tr>\n",
    "              <tr class=\"even\">\n",
    "                <td><div align=\"center\">*</div></td>\n",
    "                <td><div align=\"left\"><a href=\"https://samp.itesm.mx/Programas/VistaPrograma?clave=ICI19&amp;modoVista=Default&amp;idioma=ES&amp;cols=0\">ICI</a></div></td>\n",
    "                <td><div align=\"left\">141201</div></td>\n",
    "                <td><div align=\"left\">Ingeniería - Ciencias Aplicadas (avenida) / Exploración</div></td>\n",
    "              </tr>\n",
    "              <tr>\n",
    "                <td class=\"even\"><div align=\"center\">19</div></td>\n",
    "                <td class=\"even\"><div align=\"left\"><a href=\"https://samp.itesm.mx/Programas/VistaPrograma?clave=IDM19&amp;modoVista=Default&amp;idioma=ES&amp;cols=0\">IDM</a></div></td>\n",
    "                <td class=\"even\"><div align=\"left\">270301</div></td>\n",
    "                <td class=\"even\"><div align=\"left\">Ingeniería en Ciencia de Datos y Matemáticas</div></td>\n",
    "              </tr>\n",
    "              <tr class=\"even\">\n",
    "                <td><div align=\"center\">20</div></td>\n",
    "                <td><div align=\"left\"><a href=\"https://samp.itesm.mx/Programas/VistaPrograma?clave=IFI19&amp;modoVista=Default&amp;idioma=ES&amp;cols=0\">IFI</a></div></td>\n",
    "                <td><div align=\"left\">141201</div></td>\n",
    "                <td><div align=\"left\">Ingeniería en Física Industrial</div></td>\n",
    "              </tr>\n",
    "              <tr class=\"even\">\n",
    "                <td><div align=\"center\">21</div></td>\n",
    "                <td><div align=\"left\"><a href=\"https://samp.itesm.mx/Programas/VistaPrograma?clave=INA19&amp;modoVista=Default&amp;idioma=ES&amp;cols=0\">INA</a></div></td>\n",
    "                <td><div align=\"left\">143101</div></td>\n",
    "                <td><div align=\"left\">Ingeniería en Nanotecnología</div></td>\n",
    "              </tr>\n",
    "              <tr>\n",
    "                <th colspan=\"4\" bgcolor=\"#E2E2E2\"> <div align=\"center\" class=\"HomeHoverLink\">\n",
    "                  <div align=\"center\">\n",
    "                    Ciencias Computacionales y Tecnologías de Información\n",
    "                  </div>\n",
    "                </div></th>\n",
    "              </tr>\n",
    "              <tr>\n",
    "                <th bgcolor=\"#E2E2E2\">&nbsp;</th>\n",
    "                <th bgcolor=\"#E2E2E2\"><div align=\"left\">Siglas</div></th>\n",
    "                <th bgcolor=\"#E2E2E2\"><div align=\"left\">CIP</div></th>\n",
    "                <th bgcolor=\"#E2E2E2\">Nombre del programa</th>\n",
    "              </tr>\n",
    "              <tr class=\"even\">\n",
    "                <td><div align=\"center\">*</div></td>\n",
    "                <td><div align=\"left\"><a href=\"https://samp.itesm.mx/Programas/VistaPrograma?clave=ICT19&amp;modoVista=Default&amp;idioma=ES&amp;cols=0\">ICT</a></div></td>\n",
    "                <td><div align=\"left\">110103</div></td>\n",
    "                <td><div align=\"left\">Ingeniería - Computación y Tecnologías de Información (avenida) / Exploración</div></td>\n",
    "              </tr>\n",
    "              <tr>\n",
    "                <td class=\"even\"><div align=\"center\">22</div></td>\n",
    "                <td class=\"even\"><div align=\"left\"><a href=\"https://samp.itesm.mx/Programas/VistaPrograma?clave=IRS19&amp;modoVista=Default&amp;idioma=ES&amp;cols=0\">IRS</a></div></td>\n",
    "                <td class=\"even\"><div align=\"left\">140901</div></td>\n",
    "                <td class=\"even\"><div align=\"left\">Ingeniería en Robótica y Sistemas Digitales</div></td>\n",
    "              </tr>\n",
    "              <tr class=\"even\">\n",
    "                <td><div align=\"center\">23</div></td>\n",
    "                <td><div align=\"left\"><a href=\"https://samp.itesm.mx/Programas/VistaPrograma?clave=ITC19&amp;modoVista=Default&amp;idioma=ES&amp;cols=0\">ITC</a></div></td>\n",
    "                <td><div align=\"left\">110701</div></td>\n",
    "                <td><div align=\"left\">Ingeniería en Tecnologías Computacionales</div></td>\n",
    "              </tr>\n",
    "              <tr>\n",
    "                <td class=\"even\"><div align=\"center\">24</div></td>\n",
    "                <td class=\"even\"><div align=\"left\"><a href=\"https://samp.itesm.mx/Programas/VistaPrograma?clave=ITD19&amp;modoVista=Default&amp;idioma=ES&amp;cols=0\">ITD</a></div></td>\n",
    "                <td class=\"even\"><div align=\"left\">521201</div></td>\n",
    "                <td class=\"even\"><div align=\"left\">Ingeniería en Transformación Digital de Negocios</div></td>\n",
    "              </tr>\n",
    "              <tr>\n",
    "                <th colspan=\"4\" bgcolor=\"#E2E2E2\"> <div align=\"center\" class=\"HomeHoverLink\">\n",
    "                  <div align=\"center\">\n",
    "                    Innovación y Transformación\n",
    "                  </div>\n",
    "                </div></th>\n",
    "              </tr>\n",
    "              <tr>\n",
    "                <th bgcolor=\"#E2E2E2\">&nbsp;</th>\n",
    "                <th bgcolor=\"#E2E2E2\"><div align=\"left\">Siglas</div></th>\n",
    "                <th bgcolor=\"#E2E2E2\"><div align=\"left\">CIP</div></th>\n",
    "                <th bgcolor=\"#E2E2E2\">Nombre del programa</th>\n",
    "              </tr>\n",
    "              <tr class=\"even\">\n",
    "                <td><div align=\"center\">*</div></td>\n",
    "                <td><div align=\"left\"><a href=\"https://samp.itesm.mx/Programas/VistaPrograma?clave=AMC19&amp;modoVista=Default&amp;idioma=ES&amp;cols=0\">AMC</a></div></td>\n",
    "                <td><div align=\"left\">040201</div></td>\n",
    "                <td><div align=\"left\">Ambiente Construido/ Exploración</div></td>\n",
    "              </tr>\n",
    "              <tr>\n",
    "                <td class=\"even\"><div align=\"center\">*</div></td>\n",
    "                <td class=\"even\"><div align=\"left\"><a href=\"https://samp.itesm.mx/Programas/VistaPrograma?clave=IIT19&amp;modoVista=Default&amp;idioma=ES&amp;cols=0\">IIT</a></div></td>\n",
    "                <td class=\"even\"><div align=\"left\">140101</div></td>\n",
    "                <td class=\"even\"><div align=\"left\">Ingeniería - Innovación y Transformación (avenida) / Exploración</div></td>\n",
    "              </tr>\n",
    "              <tr class=\"even\">\n",
    "                <td><div align=\"center\">25</div></td>\n",
    "                <td><div align=\"left\"><a href=\"https://samp.itesm.mx/Programas/VistaPrograma?clave=BIE22&amp;modoVista=Default&amp;idioma=ES&amp;cols=0\">BIE</a></div></td>\n",
    "                <td><div align=\"left\">143501</div></td>\n",
    "                <td><div align=\"left\">Ingeniería Industrial y de Sistemas</div></td>\n",
    "              </tr>\n",
    "              <tr>\n",
    "                <td class=\"even\"><div align=\"center\">26</div></td>\n",
    "                <td class=\"even\"><div align=\"left\"><a href=\"https://samp.itesm.mx/Programas/VistaPrograma?clave=BME22&amp;modoVista=Default&amp;idioma=ES&amp;cols=0\">BME</a></div></td>\n",
    "                <td class=\"even\"><div align=\"left\">141001</div></td>\n",
    "                <td class=\"even\"><div align=\"left\">Ingeniería en Mecatrónica</div></td>\n",
    "              </tr>\n",
    "              <tr class=\"even\">\n",
    "                <td><div align=\"center\">27</div></td>\n",
    "                <td><div align=\"left\"><a href=\"https://samp.itesm.mx/Programas/VistaPrograma?clave=IC 19&amp;modoVista=Default&amp;idioma=ES&amp;cols=0\">IC</a></div></td>\n",
    "                <td><div align=\"left\">140801</div></td>\n",
    "                <td><div align=\"left\">Ingeniería Civil</div></td>\n",
    "              </tr>\n",
    "              <tr>\n",
    "                <td class=\"even\"><div align=\"center\">28</div></td>\n",
    "                <td class=\"even\"><div align=\"left\"><a href=\"https://samp.itesm.mx/Programas/VistaPrograma?clave=IE 19&amp;modoVista=Default&amp;idioma=ES&amp;cols=0\">IE</a></div></td>\n",
    "                <td class=\"even\"><div align=\"left\">141001&nbsp;&nbsp;&nbsp; </div></td>\n",
    "                <td class=\"even\"><div align=\"left\">Ingeniería en Electrónica</div></td>\n",
    "              </tr>\n",
    "              <tr class=\"even\">\n",
    "                <td><div align=\"center\">29</div></td>\n",
    "                <td><div align=\"left\"><a href=\"https://samp.itesm.mx/Programas/VistaPrograma?clave=IID19&amp;modoVista=Default&amp;idioma=ES&amp;cols=0\">IID</a></div></td>\n",
    "                <td><div align=\"left\">140101</div></td>\n",
    "                <td><div align=\"left\">Ingeniería en Innovación y Desarrollo</div></td>\n",
    "              </tr>\n",
    "              <tr>\n",
    "                <td class=\"even\"><div align=\"center\">30</div></td>\n",
    "                <td class=\"even\"><div align=\"left\"><a href=\"https://samp.itesm.mx/Programas/VistaPrograma?clave=IIS19&amp;modoVista=Default&amp;idioma=ES&amp;cols=0\">IIS</a></div></td>\n",
    "                <td class=\"even\"><div align=\"left\">143501</div></td>\n",
    "                <td class=\"even\"><div align=\"left\">Ingeniería Industrial y de Sistemas</div></td>\n",
    "              </tr>\n",
    "              <tr class=\"even\">\n",
    "                <td><div align=\"center\">31</div></td>\n",
    "                <td><div align=\"left\"><a href=\"https://samp.itesm.mx/Programas/VistaPrograma?clave=IM 19&amp;modoVista=Default&amp;idioma=ES&amp;cols=0\">IM</a></div></td>\n",
    "                <td><div align=\"left\">141901</div></td>\n",
    "                <td><div align=\"left\">Ingeniería Mecánica</div></td>\n",
    "              </tr>\n",
    "              <tr>\n",
    "                <td class=\"even\"><div align=\"center\">32</div></td>\n",
    "                <td class=\"even\"><div align=\"left\"><a href=\"https://samp.itesm.mx/Programas/VistaPrograma?clave=IMD19&amp;modoVista=Default&amp;idioma=ES&amp;cols=0\">IMD</a></div></td>\n",
    "                <td class=\"even\"><div align=\"left\">140501</div></td>\n",
    "                <td class=\"even\"><div align=\"left\">Ingeniería Biomédica</div></td>\n",
    "              </tr>\n",
    "              <tr class=\"even\">\n",
    "                <td><div align=\"center\">33</div></td>\n",
    "                <td><div align=\"left\"><a href=\"https://samp.itesm.mx/Programas/VistaPrograma?clave=IMT19&amp;modoVista=Default&amp;idioma=ES&amp;cols=0\">IMT</a></div></td>\n",
    "                <td><div align=\"left\">141001</div></td>\n",
    "                <td><div align=\"left\">Ingeniería en Mecatrónica</div></td>\n",
    "              </tr>\n",
    "              </tbody><tbody>\n",
    "              </tbody>\n",
    "            </table>"
   ]
  },
  {
   "cell_type": "markdown",
   "metadata": {},
   "source": [
    "#### Raw data dictionary\n",
    "\n",
    "**Variable** → **Description**\n",
    "<ol>\n",
    "<li>student.id → Student's masked enrollment identifier</li>\n",
    "<li>term_period.id → Identifier of the student´s academic period. In this case, the period corresponds to each semester August-December (AD) and February-June (FJ) from 2019 to 2022, respectively</li>\n",
    "<li>student.age → Student's age in the reported academic period</li>\n",
    "<li>student.gender_desc → Student's gender</li>\n",
    "<li>student.nationality → Student's nationality</li>\n",
    "<li>student.isForeign → Indicator that denotes whether the student is local or foreign. That is, students are local if their current residence is in the same city as the Campus where they are enrolled (0). Otherwise, students are foreigners (1)</li>\n",
    "<li>student_originSchool.isITESM → Indicator that denotes whether the student comes from a school that belongs to Tecnologico de Monterrey</li>\n",
    "<li>campus.region_name → Code of the region to which the Campus where the student is enrolled belongs</li>\n",
    "<li>student.status_desc → Description of the student's academic status</li>\n",
    "<li>student.isConditioned → Indicator that denotes whether the student is in conditional academic status</li>\n",
    "<li>student.cohort_id → Year of admission (cohort) of the student to Tecnologico de Monterrey</li>\n",
    "<li>program.major_id → Acronym of the academic program to which the student belongs</li>\n",
    "<li>student.semester_desc → Description of the semester to which the student belongs</li>\n",
    "<li>student.lastTerm_gpa → Average of the last academic term completed by the student. Where the academic term represents the period of the year to which the information refers. For example, semester</li>\n",
    "<li>student.lastTerm_gpa_program → Global average of the student's academic program at the last academic term completed (includes failed subjects)</li>\n",
    "<li>student.term_gpa_program → Global average of the student's academic program for the closing of the consulted academic term (includes failed subjects)</li>\n",
    "<li>student.fte → Indicates whether the student is a full-time student (value equal to 1) or the equivalent value of the time the student spends at Tecnologico de Monterrey according to the number of subjects enrolled</li>\n",
    "<li>program.school_id → Acronym of the school to which the student's academic program belongs</li>\n",
    "<li>subject.tec21Type_desc → Type of Educational Unit in the TEC21 Model</li>\n",
    "<li>subject.type_desc → Description of the type of subject</li>\n",
    "<li>subject.longName → Subject's name</li>\n",
    "<li>group.id  → Identifier of the subject's group</li>\n",
    "<li>group.isLIFE → Indicator that denotes whether the group belongs to the LiFE (Leadership and Student Education) program</li>\n",
    "<li>group.isVirtual → Indicator that denotes whether the classes in this group are taught virtually</li>\n",
    "<li>group.isAcademicSupport → Indicator that denotes whether the group is of academic support</li>\n",
    "<li>group.isEnglishLanguage → Indicator that denotes whether the classes in this group are taught in the English language</li>\n",
    "<li>student_grades.final_numeric_afterAdjustment → Student's final grade in the subject</li>\n",
    "<li>group.modality → Group's modality</li>\n",
    "<li>group.period → Period of the semester in which the Educational Unit is carried out</li>\n",
    "<li>group.duration_weeks → Duration in weeks of the Educational Unit</li>\n",
    "<li>competence.desc → Competency's name</li>\n",
    "<li>subcompetence.desc → Subcompetency's name</li>\n",
    "<li>competence.type → Type of competency</li>\n",
    "<li>subcompetence.level_required → Mastery level required to be developed in the subcompetency</li>\n",
    "<li>subcompetence.level_assigned → Result of the assessment of the subcompetency per student</li>\n",
    "<li>group.hasEvaluationInst → Indicator that denotes whether the Educational Unit has an associated evaluation instrument. \n",
    "<li>group_schedule.startDate → Start date of the Educational Unit in Canvas</li>\n",
    "<li>group_schedule.endDate → Completion date of the Educational Unit in Canvas</li>\n",
    "<li>group_activity.tool → Name of the external tool associated with the activity as entered by the user</li>\n",
    "<li>group.activities_count → Variable that indicates the total number of training activities per group of the Educational Unit</li>\n",
    "<li>group.assignments_count → Variable that indicates the total number of tasks per group of the Educational Unit</li>\n",
    "<li>group_activity.desc → Name of the activity of the Educational Unit's group</li>\n",
    "<li>group_activity.status → Indicates the publication status of the activity in Canvas</li>\n",
    "<li> evidence.desc → Name of the evidence in eLumen</li>\n",
    "<li>group_activity.descStatus_count → Frequency of the same type of activity registered in Canvas in the Educational Unit's group according to the publication status of the activity</li>\n",
    "</ol>"
   ]
  },
  {
   "cell_type": "markdown",
   "metadata": {},
   "source": [
    "## 2. Data load and cleaning"
   ]
  },
  {
   "cell_type": "code",
   "execution_count": null,
   "metadata": {},
   "outputs": [],
   "source": [
    "# Importing needed libraries\n",
    "import stat\n",
    "import plotly.graph_objects as go\n",
    "from plotly.subplots import make_subplots\n",
    "import pandas as pd\n",
    "import numpy as np\n",
    "import re\n",
    "from datetime import datetime\n",
    "from ete3 import Tree\n",
    "import warnings\n",
    "import plotly.express as px\n",
    "import seaborn as sbn\n",
    "from ipywidgets import widgets\n",
    "warnings.filterwarnings('ignore')\n",
    "path_files = r'EICData'\n",
    "# path_files= r'/content/drive/MyDrive/Proyecto-Tec21Competences-DataAnalysis/sourcecode/assets/EIC'\n",
    "# path_files = r'EIC-20230322T203344Z-001/EIC'"
   ]
  },
  {
   "cell_type": "code",
   "execution_count": null,
   "metadata": {},
   "outputs": [],
   "source": [
    "# CONST\n",
    "avenue_programs = ['IBQ', 'ICI', 'ICT', 'IIT']\n",
    "database_list = ['EIC-IQ','EIC-IRS','EIC-ITC','EIC-ITD','EIC-IAG','EIC-IAL',\n",
    "                 'EIC-IBQ','EIC-IBT','EIC-IC','EIC-ICI','EIC-ICT','EIC-IDM',\n",
    "                 'EIC-IDS','EIC-IE','EIC-IFI','EIC-IID','EIC-IIS','EIC-IIT',\n",
    "                 'EIC-IM','EIC-IMD','EIC-IMT','EIC-INA']\n",
    "column_names = ['student.id','term_period.id','student.age','student.gender_desc','Desc Pais Nacimiento','student.isForeign',\n",
    "                'student_originSchool.isITESM','campus.region_name','student.status_desc','student.isConditioned',\n",
    "                'student.cohort.id','program.major_id','student.semester_desc','student.lastTerm_gpa',\n",
    "                'student.lastTerm_gpa_program','student.term_gpa_program','student.fte','program.school_id',\n",
    "                'subject.longName','subject.tec21Type_desc','subject.type_desc','group.id','group.isLIFE',\n",
    "                'group.isVirtual','group.isEnglishLanguage','group.isAcademicSupport',\n",
    "                'student_grades.final_numeric_afterAdjustment','group.modality','group.period','group.duration_weeks',\n",
    "                'competence.desc','subcompetence.desc','competence.type','subcompetence.level_required',\n",
    "                'subcompetence.level_assigned','group.hasEvaluationInst','group_schedule.startDate','group_schedule.endDate',\n",
    "                'group_activity.tool','group.activities_count','group.assignments_count','group_activity.desc',\n",
    "                'group_activity.status','evidence.desc','group_activity.descStatus_count']"
   ]
  },
  {
   "cell_type": "markdown",
   "metadata": {},
   "source": [
    "This sourcecode performs the following steps:\n",
    "> Loads all databases into one dataframe.\n",
    ">\n",
    "> Parses datetime data from `%d-%m-%Y` to `%d/%m/%Y`.\n",
    ">\n",
    "> Parses problematic columns $36$, $37$, $38$, $41$, $42$, and $43$ to the appropriate type.\n",
    ">\n",
    "> Parses subcompetencies with [A-Z]{3}[0-9]{4}[A-Z]_ to the corresponding subcompetence name.\n",
    ">\n",
    "> Parses subcompetencies from `Scientific thought` and `Pensamiento cientÍ\\xadfico` to `Scientific thinking`.\n",
    ">\n",
    "> Removes white spaces at the begining and end of each competence and subcompetence name.\n",
    ">\n",
    "> Removes rows with empty `competence.desc` and `subcompetence.desc`.\n",
    ">\n",
    "> Renames column `Pais de nacimiento` as `student.nationality`.\n",
    ">\n",
    "> Converts binary variables to bool attributes.\n",
    ">\n",
    "> Removes column `group.isAcademicSupport` because it has only values $0$.\n",
    ">\n",
    "> Transform `student.gender_desc` to a bool attribute `student.isWoman`.\n",
    ">\n",
    "> Transform `student_originSchool.isITESM` to a bool attribute.\n",
    ">\n",
    "> Transform `student.isForeign` to a bool attribute.\n",
    ">\n",
    "> Transform `group.isEnglishLanguage` to a bool attribute.\n",
    ">\n",
    "> Transform `group.hasEvaluationInst` to a bool attribute.\n",
    ">\n",
    "> Transform `student.isConditioned` to a bool attribute.\n",
    ">\n",
    "> Transform `subcompetence.level_assigned` (Observed, Not observed) to a Bool attribute.\n",
    "\n"
   ]
  },
  {
   "cell_type": "code",
   "execution_count": null,
   "metadata": {},
   "outputs": [],
   "source": [
    "def parse_dates_format(unformatted_date):\n",
    "    if (str(unformatted_date) == 'nan') or (unformatted_date is pd.NaT):\n",
    "        return pd.NaT\n",
    "    else:\n",
    "        return pd.to_datetime(unformatted_date, format='%d-%m-%Y').dt.strftime('%d/%m/%Y')\n",
    "\n",
    "assert(parse_dates_format(np.NaN) is pd.NaT, 'Error parsing date format')\n",
    "#assert(parse_dates_format('01-01-2020') == pd.to_datetime('01-01-2020',format='%d-%m-%Y'), 'Wrong date format')"
   ]
  },
  {
   "cell_type": "code",
   "execution_count": null,
   "metadata": {},
   "outputs": [],
   "source": [
    "def parse_subcompetence(name):\n",
    "    name = str(name)\n",
    "    name = re.sub(r'[A-Z]{3}[0-9]{4}[A-Z]? ', '', name)\n",
    "    name = name.strip()\n",
    "    name = name.replace('SApplication of standards and standards', 'Application of standards and standards')\n",
    "    name = name.replace('SScenario Development', 'Scenario development')\n",
    "    name = name.replace('Scenario Development', 'Scenario development')\n",
    "    name = name.replace('SInterpretation of variables', 'Interpretation of variables')\n",
    "    name = 'Scientific thinking' if name == 'Scientific thought' or name.__contains__('Pensamiento') else name\n",
    "    name = name.replace('Principios del Estado de Derecho y de la cultura de la legalidad', 'Principles of the Rule of Law and the Culture of Legality')\n",
    "    name = name.replace(u'\\u200b', '')  # remove zero-width space\n",
    "    return name\n",
    "\n",
    "assert(parse_subcompetence('SEG0981A ') == ''), 'Error replacing regular expression'\n",
    "assert(parse_subcompetence('Scientific thought') == 'Scientific thinking'), 'Error parsing subcompetence'\n",
    "assert(parse_subcompetence('Pensamiento científico') == 'Scientific thinking'), 'Error parsing subcompetence'"
   ]
  },
  {
   "cell_type": "code",
   "execution_count": null,
   "metadata": {},
   "outputs": [],
   "source": [
    "full_df = pd.concat([pd.read_csv(f'{path_files}/{database}.csv',\n",
    "                                  dtype={\n",
    "                                      column_names[10-1]: bool,\n",
    "                                      column_names[11-1]: str,\n",
    "                                      column_names[13-1]: str,\n",
    "                                      column_names[22-1]: 'Int64',\n",
    "                                      column_names[26-1]: bool,\n",
    "                                      column_names[31-1]: str,\n",
    "                                      column_names[32-1]: str,\n",
    "                                      column_names[35-1]: str,\n",
    "                                      column_names[36-1]: str,\n",
    "                                      column_names[40-1]: 'Int64',\n",
    "                                      column_names[41-1]: 'Int64',\n",
    "                                      column_names[42-1]: str,\n",
    "                                      column_names[43-1]: str,\n",
    "                                      column_names[45-1]: 'Int64',\n",
    "                                  }) for database in database_list])\n",
    "full_df = full_df.drop('group.isAcademicSupport', axis=1)\n",
    "full_df.dropna(subset=[column_names[31-1], column_names[32-1]], how='all', inplace=True)\n",
    "full_df[[column_names[37-1]]] = full_df[[column_names[37-1]]].apply(lambda x: parse_dates_format(x))\n",
    "full_df[[column_names[38-1]]] = full_df[[column_names[38-1]]].apply(lambda x: parse_dates_format(x))\n",
    "full_df.rename(columns={'Desc Pais Nacimiento':'student.nationality'}, inplace=True)\n",
    "full_df[column_names[31-1]] = full_df[column_names[31-1]].str.strip()\n",
    "full_df[column_names[32-1]] = full_df[column_names[32-1]].apply(lambda x: parse_subcompetence(x))\n",
    "# print(len(full_df.index))\n",
    "# full_df.head()\n",
    "print('All databases loaded and merged into one dataframe!')"
   ]
  },
  {
   "cell_type": "code",
   "execution_count": null,
   "metadata": {},
   "outputs": [],
   "source": [
    "#full_df"
   ]
  },
  {
   "cell_type": "markdown",
   "metadata": {},
   "source": [
    "## 3. Data transformation"
   ]
  },
  {
   "cell_type": "markdown",
   "metadata": {},
   "source": [
    "#### 3.1 Transform dichotomous variables into a boolean variables for computational efficiency\n",
    "\n",
    "> `student.gender_desc`\n",
    ">\n",
    "> `student_originSchool.isITESM`\n",
    ">\n",
    "> `student.isForeign`\n",
    ">\n",
    "> `group.isEnglishLanguage`\n",
    ">\n",
    "> `group.isVirtual`\n",
    ">\n",
    "> `group.isLIFE`"
   ]
  },
  {
   "cell_type": "code",
   "execution_count": null,
   "metadata": {},
   "outputs": [],
   "source": [
    "full_df['student.isWoman'] = full_df['student.gender_desc'].map(lambda item: True \n",
    "                                                                if item.strip().lower() == 'female' \n",
    "                                                                else False)\n",
    "full_df.drop(columns=['student.gender_desc'], inplace=True)\n",
    "#\n",
    "full_df['student_originSchool.isITESM'] = full_df['student_originSchool.isITESM'].map(lambda item: True \n",
    "                                                                                      if item.strip().lower() == 'tec' \n",
    "                                                                                      else False)\n",
    "#\n",
    "full_df['group.hasEvaluationInst'] = full_df['group.hasEvaluationInst'].map(lambda x: True \n",
    "                                                                            if str(x).strip().lower() == 'yes' \n",
    "                                                                            else False)\n",
    "#\n",
    "full_df[['student.isForeign','group.isEnglishLanguage','group.isVirtual','group.isLIFE']] = \\\n",
    "    full_df[['student.isForeign',\n",
    "             'group.isEnglishLanguage', \n",
    "             'group.isVirtual',\n",
    "             'group.isLIFE']].applymap(lambda x: True \n",
    "                                       if x == 1 \n",
    "                                       else False)"
   ]
  },
  {
   "cell_type": "markdown",
   "metadata": {},
   "source": [
    "#### 3.2 Replacing the N/V value for the subject 'Chemical Experimentation and Statistical Thinking I', which is dictated during 5 weeks in the 2nd period of the semester."
   ]
  },
  {
   "cell_type": "code",
   "execution_count": null,
   "metadata": {},
   "outputs": [],
   "source": [
    "full_df['group.period'].replace('N/V', '2', inplace=True)"
   ]
  },
  {
   "cell_type": "markdown",
   "metadata": {},
   "source": [
    "#### 3.3 Removing rows with unpublish status for the activity evaluating the competence."
   ]
  },
  {
   "cell_type": "code",
   "execution_count": null,
   "metadata": {},
   "outputs": [],
   "source": [
    "init_size = len(full_df.index)\n",
    "full_df = full_df[full_df['group_activity.status'] != 'unpublished']\n",
    "programs = full_df['program.major_id'].unique().tolist()\n",
    "print(f'{init_size-len(full_df.index)} rows removed!\\nCurrent dataframe size is {len(full_df.index)}.')"
   ]
  },
  {
   "cell_type": "markdown",
   "metadata": {},
   "source": [
    "#### 3.4 Imputing `group.duration_weeks` null values with `group.period`"
   ]
  },
  {
   "cell_type": "code",
   "execution_count": null,
   "metadata": {},
   "outputs": [],
   "source": [
    "\n",
    "# Creating the attribute group.duration_weeks from group.period\n",
    "def groupDuration_from_groupPeriod(item):\n",
    "    if item == '1' or item == '2' or item == '3': return 5\n",
    "    if item == '1--2' or item =='2--3': return 10\n",
    "    if item == '1--3': return 15\n",
    "    else: return 0\n",
    "full_df.drop(columns=['group.duration_weeks'], inplace=True)\n",
    "full_df['group.duration_weeks'] = \\\n",
    "    full_df['group.period'].map(groupDuration_from_groupPeriod).astype('Int64')"
   ]
  },
  {
   "cell_type": "code",
   "execution_count": null,
   "metadata": {},
   "outputs": [],
   "source": [
    "# Unitary tests\n",
    "assert len(full_df[full_df['group.duration_weeks']==0]['subject.longName'].unique()) == 0, \\\n",
    "       'There are abnormal group durations'\n",
    "assert len(full_df.columns) == 44, ''\n",
    "assert len(full_df.index) == 4527994, ''\n",
    "print(f'The dataset has {len(full_df.index)} rows and {len(full_df.columns)} columns.')"
   ]
  },
  {
   "cell_type": "markdown",
   "metadata": {},
   "source": [
    "#### 3.5 Adding an attribute with the subcompetency code and level to the full dataframe. \n",
    "\n",
    "**Equivalent subcompetencies have the same code**"
   ]
  },
  {
   "cell_type": "markdown",
   "metadata": {},
   "source": [
    "##### List of equivalent subcompetencies\n",
    "\n",
    "**Considerations**\n",
    "> Transversal subcompetencies are the same with the same name for all programs.\n",
    ">\n",
    "> Disciplinary subocmpetencies are grouped in two categories (Area and Disciplinar).\n",
    ">\n",
    "> Area subcomeptencies are equivalent:\n",
    ">\n",
    ">> Subcompetencies with the same number in the code are equivalent\n",
    ">>\n",
    ">> SIBQ###### <=> SICI##### <=> SICT##### <=> SIIT##### <=> SING#### (The lastone is the one to keep)\n",
    "\n",
    "\n",
    "\n",
    "| SIBQ#### | SICI#### | SICT#### | SIIT#### | SING#### |\n",
    "|----------|:--------:|---------:|---------:|---------:|\n",
    "| SIBQ0101 | SICI0101 | SICT0101 | SIIT0101 | SING0101 |\n",
    "| SIBQ0102 | SICI0102 | SICT0102 | SIIT0102 | SING0102 |\n",
    "| SIBQ0103 | SICI0103 | SICT0103 | SIIT0103 | SING0103 |\n",
    "\n",
    "**Steps**\n",
    "<ol>\n",
    "    <li> Load a dataframe with the equivalence between the $subcompetence.desc$ in the dataframe and the names of the subcomeptencies in SAMP.</li>\n",
    "    <li> Load a dataframe with the names of the subcoemptencies in SAMP and their Code, type, and Formation units.</li>\n",
    "    <li> Merge both dataframes into one with the name of the subcompetence in the full dataframe and their code, and type in SAMP.</li>\n",
    "    <li> Merge the obtained dataframe with the full_dataframe $how='inner'$. As a result, subcompetencies of other schools will be removed.</li>\n",
    "    <li> Add an attribute with the subcompetence code (Equivalent subcompetencies must have the same code).</li>\n",
    "<ol> "
   ]
  },
  {
   "cell_type": "code",
   "execution_count": null,
   "metadata": {},
   "outputs": [],
   "source": [
    "# loading dataframe with subcompetencies and codes.\n",
    "subcompetence_code = pd.read_excel(f'{path_files}/Subcompetencies-All.xlsx')\n",
    "subcompetence_code.drop(columns=['Activo', 'UF a Desarrollar', 'Escuela', \n",
    "                                 'Departamento que administra la materia',\n",
    "                                 'Area compentencia'], inplace=True)\n",
    "# subcompetence_code.head()"
   ]
  },
  {
   "cell_type": "code",
   "execution_count": null,
   "metadata": {},
   "outputs": [],
   "source": [
    "subcompetence_code.rename(columns={'Nombre en Inglés':'Name in SAMP'}, inplace=True)"
   ]
  },
  {
   "cell_type": "code",
   "execution_count": null,
   "metadata": {},
   "outputs": [],
   "source": [
    "# Loading file with the subcomeptence names correspondece\n",
    "subcompetence_name_correspondence = pd.read_excel(f'{path_files}/SimilarityBetweenSubcompetenceNames.xlsx')"
   ]
  },
  {
   "cell_type": "code",
   "execution_count": null,
   "metadata": {},
   "outputs": [],
   "source": [
    "subcompetence_name_correspondence = pd.merge(left=subcompetence_name_correspondence,\n",
    "                                             right=subcompetence_code,\n",
    "                                             on=['Name in SAMP'],\n",
    "                                             how='inner')"
   ]
  },
  {
   "cell_type": "code",
   "execution_count": null,
   "metadata": {},
   "outputs": [],
   "source": [
    "# Adding an attribute with the level_required for merging with the full dataframe\n",
    "subcompetence_name_correspondence['subcompetence.level_required'] = \\\n",
    "    subcompetence_name_correspondence['Clave'].map(lambda x: x[-1])"
   ]
  },
  {
   "cell_type": "code",
   "execution_count": null,
   "metadata": {},
   "outputs": [],
   "source": [
    "# Raneming to merge with full_df\n",
    "subcompetence_name_correspondence.rename(columns={'Name in Dataset':'subcompetence.desc'}, \n",
    "                                        inplace=True)"
   ]
  },
  {
   "cell_type": "code",
   "execution_count": null,
   "metadata": {},
   "outputs": [],
   "source": [
    "# Storing names for subcompetencies with key 'SING'\n",
    "eng_subcomp_names = \\\n",
    "    subcompetence_name_correspondence[(~subcompetence_name_correspondence['Clave'].str.contains('SIBQ'))\n",
    "                                       & (~subcompetence_name_correspondence['Clave'].str.contains('SICI'))\n",
    "                                       & (~subcompetence_name_correspondence['Clave'].str.contains('SICT'))\n",
    "                                       & (~subcompetence_name_correspondence['Clave'].str.contains('SIIT'))][['Name in SAMP','Clave']]"
   ]
  },
  {
   "cell_type": "markdown",
   "metadata": {},
   "source": [
    "##### Adding the attribute with the equivalence between subcompetencies."
   ]
  },
  {
   "cell_type": "code",
   "execution_count": null,
   "metadata": {},
   "outputs": [],
   "source": [
    "def map_subcompetence_equivalence(item1):\n",
    "    result = item1\n",
    "    result = result.replace('SIBQ', 'SING')\n",
    "    result = result.replace('SICI', 'SING')\n",
    "    result = result.replace('SICT', 'SING')\n",
    "    result = result.replace('SIIT', 'SING')\n",
    "    return result"
   ]
  },
  {
   "cell_type": "code",
   "execution_count": null,
   "metadata": {},
   "outputs": [],
   "source": [
    "subcompetence_name_correspondence['subcompetence.equivalent_key'] = \\\n",
    "    subcompetence_name_correspondence['Clave'].map(map_subcompetence_equivalence)"
   ]
  },
  {
   "cell_type": "code",
   "execution_count": null,
   "metadata": {},
   "outputs": [],
   "source": [
    "assert subcompetence_name_correspondence[subcompetence_name_correspondence['Clave'] == \\\n",
    "                                         'SIBQ0102A']['subcompetence.equivalent_key'].unique() == \\\n",
    "    ['SING0102A'], 'The equivalence between competencies is wrong'\n",
    "assert subcompetence_name_correspondence[subcompetence_name_correspondence['Clave'] == \\\n",
    "                                         'SICI0102A']['subcompetence.equivalent_key'].unique() == \\\n",
    "    ['SING0102A'], 'The equivalence between competencies is wrong'"
   ]
  },
  {
   "cell_type": "code",
   "execution_count": null,
   "metadata": {},
   "outputs": [],
   "source": [
    "# Keeping only the subcompetence.desc for the SING subcompetence\n",
    "subc_desc_before = len(subcompetence_name_correspondence['subcompetence.desc'].unique())\n",
    "subcompetence_name_correspondence = pd.merge(left=subcompetence_name_correspondence,\n",
    "                                             right=eng_subcomp_names,\n",
    "                                             left_on=['subcompetence.equivalent_key'],\n",
    "                                             right_on=['Clave'],\n",
    "                                             how='left')"
   ]
  },
  {
   "cell_type": "code",
   "execution_count": null,
   "metadata": {},
   "outputs": [],
   "source": [
    "subcompetence_name_correspondence.drop(columns=['Name in SAMP_x', 'Clave_x', 'Clave_y'], inplace=True)\n",
    "subcompetence_name_correspondence.rename(columns={'Name in SAMP_y':'subcompetence.equivalent_desc'}, inplace=True)"
   ]
  },
  {
   "cell_type": "code",
   "execution_count": null,
   "metadata": {},
   "outputs": [],
   "source": [
    "# Droping rows for equivalent subcomeptencies\n",
    "subcompetence_name_correspondence.drop_duplicates(subset=['subcompetence.desc',\n",
    "                                                          'Tipo de competencia',\n",
    "                                                          'subcompetence.level_required',\n",
    "                                                          'subcompetence.equivalent_key'],\n",
    "                                                  keep='first',\n",
    "                                                  inplace=True)"
   ]
  },
  {
   "cell_type": "code",
   "execution_count": null,
   "metadata": {},
   "outputs": [],
   "source": [
    "print(f'Subcompetence descriptions before renaming equivalent ones {subc_desc_before}')\n",
    "subc_desc_after = len(subcompetence_name_correspondence['subcompetence.equivalent_desc'].unique())\n",
    "print(f'Subcompetence equivalent descriptions {subc_desc_after}')"
   ]
  },
  {
   "cell_type": "markdown",
   "metadata": {},
   "source": [
    "##### Adding competence code to the full dataframe with level\n",
    "**Steps**\n",
    "<ol>\n",
    "    <li> Merge the full dataframe with the dataframe with the subcompetencies code.</li>\n",
    "    <li> Drop rows without competence code because they correspond to subcompetencies belonging to other schools.</li>\n",
    "</ol>"
   ]
  },
  {
   "cell_type": "markdown",
   "metadata": {},
   "source": [
    "**Remarks**\n",
    "> Some equivalent subcompetencies have different names.\n",
    "\n",
    "| CODE      | Name in SAMP                |\n",
    "| --------: | ---------------------------:|\n",
    "| SING0202A\t| Interpretation of variables |\n",
    "| SIIT0202A\t| Variable interpretation     |\n",
    "| SICI0202A\t| Variable interpretation     |\n",
    "| SIBQ0202A\t| Interpretation of variables |\n",
    "| SICT0202A\t| Variable interpretation     |\n",
    "\n",
    "> So, we keep only the name for the subcomeptence SING.\n",
    ">\n",
    "> Rows corresponding to sub competencies of schools  different to EIC were discarded."
   ]
  },
  {
   "cell_type": "code",
   "execution_count": null,
   "metadata": {},
   "outputs": [],
   "source": [
    "size_before = len(full_df.index)"
   ]
  },
  {
   "cell_type": "code",
   "execution_count": null,
   "metadata": {},
   "outputs": [],
   "source": [
    "# Adding subcompetence code and new type (Disciplinar, Area, and General Education)\n",
    "# Keeping only rows with subcompetencies from EIC school (how='inner')\n",
    "full_df = pd.merge(left=full_df,\n",
    "                   right=subcompetence_name_correspondence[['subcompetence.desc',\n",
    "                                                            'Tipo de competencia',\n",
    "                                                            'subcompetence.level_required',\n",
    "                                                            'subcompetence.equivalent_key',\n",
    "                                                            'subcompetence.equivalent_desc']],\n",
    "                   on=['subcompetence.desc', 'subcompetence.level_required'],\n",
    "                   how='inner')"
   ]
  },
  {
   "cell_type": "code",
   "execution_count": null,
   "metadata": {},
   "outputs": [],
   "source": [
    "print(f'Size of the full dataframe before droping subcompetencies of other schools: {size_before}\\n'+\n",
    "      f'Size of the full dataframe after droping subcompetencies of other schools: {len(full_df.index)}\\n'+\n",
    "      f'Rows removed: {size_before-len(full_df.index)}, {((size_before-len(full_df.index))/size_before)*100}%')\n",
    "print()"
   ]
  },
  {
   "cell_type": "code",
   "execution_count": null,
   "metadata": {},
   "outputs": [],
   "source": [
    "assert not full_df['subcompetence.desc'].hasnans, 'Error! Some subcomeptencies were missed after merging equivalent ones'"
   ]
  },
  {
   "cell_type": "code",
   "execution_count": null,
   "metadata": {},
   "outputs": [],
   "source": [
    "assert len(full_df[full_df['subcompetence.desc'] == \\\n",
    "            'Biomedical Technology Management, Evaluation and Transfer Processes']['student.id'].unique())\\\n",
    "        == 475, 'Some subcomeptencies weren\\'t added'"
   ]
  },
  {
   "cell_type": "markdown",
   "metadata": {},
   "source": [
    "#### 3.6 Adding an attribute with the enrollment period for each student and the semesters since enrollment.\n",
    "\n",
    "> `enrollment_period.id` --> Period in which the student enrolled for the first time at Tec.\n",
    ">\n",
    "> `semesters_from.enrollment` --> Number of periods from the enrollment to the last semester.\n",
    "\n",
    "**Remarks**\n",
    "> Each row has the period for the current observation, but the first enrollment period isn't in the data. So, we need to add it.\n",
    ">\n",
    "> Attribute `semester.desc` has the minimum semester for which the student has a subject enrolled. Therefore, there are many cases for which the student is never enrolled in certain semesters. Because he passes all subject in a period with at least one subject of the inferior semester.\n",
    ">\n",
    "> This new attributes give such information.\n",
    "\n",
    "**Steps**\n",
    "> Create a new attribute with the seniority of the student regarding the number of periods since the first enrollment at Tec\n",
    ">\n",
    "> Create a new attribute for which the semester is determined by the semester that maximize the number of subjects enrolled."
   ]
  },
  {
   "cell_type": "markdown",
   "metadata": {},
   "source": [
    "1. 2019AD\n",
    "2. 2020FJ\n",
    "3. 2020AD\n",
    "4. 2021FJ\n",
    "5. 2021AD\n",
    "6. 2022FJ"
   ]
  },
  {
   "cell_type": "code",
   "execution_count": null,
   "metadata": {},
   "outputs": [],
   "source": [
    "# Order for the semesters\n",
    "period_sorted_list = ['2019AD', '2020FJ', '2020AD', '2021FJ', '2021AD', '2022FJ']"
   ]
  },
  {
   "cell_type": "code",
   "execution_count": null,
   "metadata": {},
   "outputs": [],
   "source": [
    "students_list = full_df['student.id'].unique()"
   ]
  },
  {
   "cell_type": "code",
   "execution_count": null,
   "metadata": {},
   "outputs": [],
   "source": [
    "# Obtaining the enrollment semester and the number of semesters since the student enrollment.\n",
    "# Create a DataFrame with unique combinations of student and term_period\n",
    "student_term_df = full_df[['student.id', 'term_period.id']].drop_duplicates()"
   ]
  },
  {
   "cell_type": "code",
   "execution_count": null,
   "metadata": {},
   "outputs": [],
   "source": [
    "# Create a new dataframe with the list of sorted periods\n",
    "period_df = pd.DataFrame({'term_period.id': period_sorted_list})\n",
    "period_df.reset_index(inplace=True)\n",
    "period_df"
   ]
  },
  {
   "cell_type": "code",
   "execution_count": null,
   "metadata": {},
   "outputs": [],
   "source": [
    "# Merge with a DataFrame containing the sorted period ids\n",
    "student_term_period_df = pd.merge(left=student_term_df, right=period_df, on='term_period.id', how='left')"
   ]
  },
  {
   "cell_type": "code",
   "execution_count": null,
   "metadata": {},
   "outputs": [],
   "source": [
    "# Group by student and find the minimum period id that matches the sorted period ids\n",
    "min_periods_df = student_term_period_df.groupby(by='student.id', as_index=False)['index'].min()\n",
    "\n",
    "min_periods_df['enrollment_period.id'] = min_periods_df['index'].apply(lambda x: period_sorted_list[x])\n",
    "min_periods_df.drop(columns=['index'], inplace=True)"
   ]
  },
  {
   "cell_type": "code",
   "execution_count": null,
   "metadata": {},
   "outputs": [],
   "source": [
    "# Merge back to the original DataFrame and calculate semesters_from.enrollment\n",
    "full_df = pd.merge(left=full_df, right=min_periods_df, on='student.id', how='left')\n",
    "full_df['semesters_from.enrollment'] = full_df.apply(\n",
    "    lambda x: period_sorted_list.index(x['term_period.id']) - period_sorted_list.index(x['enrollment_period.id']) + 1,\n",
    "    axis=1\n",
    ")\n",
    "print('100% processed!')"
   ]
  },
  {
   "cell_type": "code",
   "execution_count": null,
   "metadata": {},
   "outputs": [],
   "source": [
    "# Unitary test. Checking the periods from enrollment using student.id == 309091\n",
    "temp = student_term_period_df[student_term_period_df['student.id']==309091]['index'].tolist()\n",
    "temp.sort()\n",
    "assert temp == [3,4,5],'Error! Index lists of periods mismatch.'"
   ]
  },
  {
   "cell_type": "code",
   "execution_count": null,
   "metadata": {},
   "outputs": [],
   "source": [
    "# Unitary test. Checking the column added. Column 47 is the last column added 'semesters_from.enrollment'\n",
    "assert full_df.columns.__contains__('semesters_from.enrollment'), 'Error! Column \\'semesters_from.enrollment\\' wasn\\'t added.'\n",
    "temp = full_df[full_df['student.id'] == 51742]['semesters_from.enrollment'].unique().tolist()\n",
    "temp.sort()\n",
    "assert temp == [1,2], 'Error! Semesters from enrollment differs.'\n",
    "temp = full_df[full_df['student.id'] == 309091]['semesters_from.enrollment'].unique().tolist()\n",
    "temp.sort()\n",
    "assert temp == [1,2,3], 'Error! Semesters from enrollment differs.'"
   ]
  },
  {
   "cell_type": "markdown",
   "metadata": {},
   "source": [
    "#### 3.7 Add an attribute with the number of formation units enrolled in the semester"
   ]
  },
  {
   "cell_type": "code",
   "execution_count": null,
   "metadata": {},
   "outputs": [],
   "source": [
    "temp_df = full_df.groupby(['student.id', 'term_period.id'], \n",
    "                          as_index=False).agg({'subject.longName':'nunique'})\n",
    "temp_df.rename(columns={'subject.longName':'student.suject_semester_enrolled'}, inplace=True)"
   ]
  },
  {
   "cell_type": "code",
   "execution_count": null,
   "metadata": {},
   "outputs": [],
   "source": [
    "size_before = len(full_df.index)\n",
    "full_df = pd.merge(left=full_df, right=temp_df, on=['student.id', 'term_period.id'], how='left')\n",
    "del temp_df"
   ]
  },
  {
   "cell_type": "code",
   "execution_count": null,
   "metadata": {},
   "outputs": [],
   "source": [
    "# Unitary test\n",
    "assert size_before==len(full_df.index), 'Sizes mistmatch after merge'\n",
    "assert full_df.columns.__contains__('student.suject_semester_enrolled'), 'Column wasn\\'t added'"
   ]
  },
  {
   "cell_type": "markdown",
   "metadata": {},
   "source": [
    "#### 3.8 Add an attribute with the group size regarding the number of students\n",
    "\n",
    "**Remarks** \n",
    "> The same group.id appears more than once in the data.\n",
    "> \n",
    "> `group.id == '3070'` is in perids '2020AD' and '2021AD'.\n",
    ">\n",
    "> So, we add the attribute group.size for each group.id and term_period and remove group.id."
   ]
  },
  {
   "cell_type": "code",
   "execution_count": null,
   "metadata": {},
   "outputs": [],
   "source": [
    "temp_df = full_df.groupby(['term_period.id', 'group.id'], \n",
    "                          as_index=False).agg({'student.id':'nunique'})\n",
    "temp_df.rename(columns={'student.id':'group.size'}, inplace=True)"
   ]
  },
  {
   "cell_type": "code",
   "execution_count": null,
   "metadata": {},
   "outputs": [],
   "source": [
    "size_before = len(full_df.index)\n",
    "full_df = pd.merge(left=full_df, right=temp_df, on=['term_period.id', 'group.id'], how='left')\n",
    "print(f'Size before merge {size_before}')\n",
    "print(f'Size after merge {len(full_df.index)}')\n",
    "del temp_df"
   ]
  },
  {
   "cell_type": "code",
   "execution_count": null,
   "metadata": {},
   "outputs": [],
   "source": [
    "# Unitary test\n",
    "assert size_before==len(full_df.index), 'Sizes mistmatch after merge'\n",
    "assert full_df.columns.__contains__('group.size'), 'Column wasn\\'t added'\n",
    "assert full_df[(full_df['group.id']==3070) \\\n",
    "               & (full_df['term_period.id']=='2020AD')]['group.size'].unique() == [60], \\\n",
    "                    'The group size is incorrect'\n",
    "assert full_df[(full_df['group.id']==41938) \\\n",
    "               & (full_df['term_period.id'] == '2020FJ')]['group.size'].unique() == [23], \\\n",
    "                    'The group size is incorrect'"
   ]
  },
  {
   "cell_type": "markdown",
   "metadata": {},
   "source": [
    "#### 3.9 Add an attribute indicating whether the program is avenue or specific"
   ]
  },
  {
   "cell_type": "code",
   "execution_count": null,
   "metadata": {},
   "outputs": [],
   "source": [
    "size_before = len(full_df.index)\n",
    "full_df['program.isAvenue'] = full_df['program.major_id'].isin(avenue_programs)"
   ]
  },
  {
   "cell_type": "code",
   "execution_count": null,
   "metadata": {},
   "outputs": [],
   "source": [
    "assert size_before==len(full_df.index), 'Sizes mistmatch after merge'\n",
    "assert full_df.columns.__contains__('program.isAvenue'), 'Column wasn\\'t added'"
   ]
  },
  {
   "cell_type": "markdown",
   "metadata": {},
   "source": [
    "#### 3.10 Add an attribute with the number of `evidence.desc` dropping null values\n",
    "##### Check if this attribute has only values for `period == 2022FJ`\n",
    "\n",
    "**Remarks**\n",
    "> `full_df[full_df['term_period.id'] != '2022FJ']['evidence.desc'].unique()` returns `array([nan], dtype=object)`. So, there is no information about evidence out of 2022.\n",
    ">\n",
    "> So, it is worthless to keep it for the current analysis.\n",
    "> \n",
    "> Additionally, attribute `evidence.desc` has too much variation for '2022FJ'. \n",
    "> \n",
    "> The five top labels (more common) are:\n",
    "\n",
    "| Tag                        | Percent  |\n",
    "| ---------------------------| ---------|\n",
    "| Argumentative exam         | 1.548323 |\n",
    "| Evidence 1                 | 1.334045 |\n",
    "| Evidence 2                 | 1.058198 |\n",
    "| Written argumentative exam | 0.637830 |\n",
    "| Oral argumentative exam    | 0.396104 |\n"
   ]
  },
  {
   "cell_type": "code",
   "execution_count": null,
   "metadata": {},
   "outputs": [],
   "source": [
    "full_df[full_df['term_period.id'] != '2022FJ']['evidence.desc'].unique()"
   ]
  },
  {
   "cell_type": "markdown",
   "metadata": {},
   "source": [
    "#### 3.11 Add an attribute with the number of `activities` dropping null values\n",
    "##### Check if this attribute has only values for `period == 2022FJ`\n",
    "\n",
    "**Remarks**\n",
    "\n",
    "> `full_df[full_df['term_period.id'] != '2022FJ']['group.activities_count'].unique()` returns `<IntegerArray>[<NA>]Length: 1, dtype: Int64`. So, there is no information about evidence out of 2022.\n",
    ">\n",
    "> Hence, it is worthless to keep it for the current analysis.\n",
    ">\n",
    "> All attributes related to group_activities, group_assesments, and evidences have null values for all periods except '2022FJ'. So, they are worthless for the current analysis."
   ]
  },
  {
   "cell_type": "code",
   "execution_count": null,
   "metadata": {},
   "outputs": [],
   "source": [
    "full_df[full_df['term_period.id'] != '2022FJ']['group_activity.descStatus_count'].unique()"
   ]
  },
  {
   "cell_type": "markdown",
   "metadata": {},
   "source": [
    "#### 3.12 Drop columns of the transformed and unnecessary attributes.\n",
    "\n",
    "**Columns to drop**\n",
    "<ul>\n",
    "    <li>'program.school_id'</li>\n",
    "    <li>'group.id'</li>\n",
    "    <li>'competence.type'</li>\n",
    "    <li>'group_schedule.startDate'</li>\n",
    "    <li>'group_schedule.endDate'</li>\n",
    "    <li>'group_activity.tool'</li>\n",
    "    <li>'group.activities_count'</li>\n",
    "    <li>'group.assignments_count'</li>\n",
    "    <li>'group_activity.desc'</li>\n",
    "    <li>'group_activity.status'</li>\n",
    "    <li>'evidence.desc'</li>\n",
    "    <li>'group_activity.descStatus_count'</li>\n",
    "    <li>'subcompetence.desc'</li>\n",
    "</ul>"
   ]
  },
  {
   "cell_type": "code",
   "execution_count": null,
   "metadata": {},
   "outputs": [],
   "source": [
    "size_before = len(full_df.index)\n",
    "full_df.drop(columns=['program.school_id', 'group.id', 'competence.type', \n",
    "                      'group_schedule.startDate', \n",
    "                      'group_schedule.endDate','group_activity.tool','group.activities_count',\n",
    "                      'group.assignments_count','group_activity.desc','group_activity.status',\n",
    "                      'evidence.desc','group_activity.descStatus_count', 'subcompetence.desc'], \n",
    "             inplace=True)\n",
    "print(f'Rows before dropping columns {size_before}')\n",
    "print(f'Rows after dropping columns {len(full_df.index)}')"
   ]
  },
  {
   "cell_type": "markdown",
   "metadata": {},
   "source": [
    "#### 3.13 Rename columns and values.\n",
    "\n",
    "**Columns to rename**\n",
    ">'Tipo de competencia' $\\rightarrow$ 'competence.type'</li> \n",
    ">\n",
    "> 'subcompetence.bool_level_assigned' $\\rightarrow$ 'subcompetence.level_assigned'</li>\n",
    ">\n",
    ">'subcompetence.equivalent_desc' $\\rightarrow$ 'subcompetence.desc'</li>\n",
    "\n",
    "**Note:** Some subcompetencies classfied as Diciplinary are classified as Area now."
   ]
  },
  {
   "cell_type": "code",
   "execution_count": null,
   "metadata": {},
   "outputs": [],
   "source": [
    "full_df.rename(columns={'Tipo de competencia':'competence.type', \n",
    "                        'subcompetence.equivalent_desc':'subcompetence.desc'},\n",
    "               inplace=True)"
   ]
  },
  {
   "cell_type": "code",
   "execution_count": null,
   "metadata": {},
   "outputs": [],
   "source": [
    "# Translate values for attribute competence.type\n",
    "def translate_competence_type(item):\n",
    "    if item == 'Área': return 'Area'\n",
    "    if item == 'Educación General': return 'General_education'\n",
    "    if item == 'Disciplinar': return 'Disciplinary'\n",
    "    return 'Unknown'"
   ]
  },
  {
   "cell_type": "code",
   "execution_count": null,
   "metadata": {},
   "outputs": [],
   "source": [
    "full_df['competence.type'] = full_df['competence.type'].map(translate_competence_type)"
   ]
  },
  {
   "cell_type": "code",
   "execution_count": null,
   "metadata": {},
   "outputs": [],
   "source": [
    "assert len(full_df[full_df['competence.type'] == 'Área'].index) == 0, 'Competence types weren\\'t changed'"
   ]
  },
  {
   "cell_type": "markdown",
   "metadata": {},
   "source": [
    "#### 3.14 Drop duplicated rows using \n",
    "student.id+term_period.id+subject.longName+subcompetence.desc+subcompetence.level_required+subcompetence.level_assigned"
   ]
  },
  {
   "cell_type": "markdown",
   "metadata": {},
   "source": [
    "##### Checking if there is any repeated observation with different subcompetence.level_assigned\n",
    "**Remarks**\n",
    "> Yes, there are 47 cases where the same subcompetence at the same level_required was observed and not observed for the same student in the same subject and semester.\n",
    ">\n",
    "> We want to keep such differences, so, we must drop duplicates but including the level_assigned."
   ]
  },
  {
   "cell_type": "code",
   "execution_count": null,
   "metadata": {},
   "outputs": [],
   "source": [
    "size_before = len(full_df.index)\n",
    "full_df.drop_duplicates(subset=['student.id','term_period.id','subject.longName',\n",
    "                                'subcompetence.desc', 'subcompetence.level_required',\n",
    "                                'subcompetence.level_assigned'],\n",
    "                       keep='first',\n",
    "                       inplace=True)\n",
    "print(f'{size_before - len(full_df.index)} rows removed after dropping duplicates.')\n",
    "print(f'Current dataframe size is {len(full_df.index)} rows and {len(full_df.columns)} columns.')"
   ]
  },
  {
   "cell_type": "markdown",
   "metadata": {},
   "source": [
    "#### 3.15 Add attributes with:\n",
    "    \n",
    "1. The number of `subcompetence.level_assigned == Observed` \n",
    "2. The number of `subcompetence.level_assigned == Not_observed`"
   ]
  },
  {
   "cell_type": "code",
   "execution_count": null,
   "metadata": {},
   "outputs": [],
   "source": [
    "def add_count_column(df, level_assigned, new_col_name):\n",
    "    df.sort_values('semesters_from.enrollment', inplace=True)\n",
    "    df['temp_count'] = df.groupby(['student.id',\n",
    "                                   'subcompetence.desc',\n",
    "                                   'subcompetence.level_required',\n",
    "                                   'subcompetence.level_assigned']).cumcount()\n",
    "    if level_assigned == 'Observed':\n",
    "        df['temp_count'] = np.where(df['subcompetence.level_assigned'] == 'Not observed', \n",
    "                                    0, \n",
    "                                    df['temp_count'])\n",
    "    else:\n",
    "        df['temp_count'] = np.where(df['subcompetence.level_assigned'] == 'Observed', \n",
    "                                    0, \n",
    "                                    df['temp_count'])\n",
    "    df[new_col_name] = df.groupby(['student.id',\n",
    "                                   'subcompetence.desc',\n",
    "                                   'subcompetence.level_assigned',\n",
    "                                   'semesters_from.enrollment'])['temp_count'].transform('min')\n",
    "    \n",
    "    df.drop(columns=['temp_count'], inplace=True)\n",
    "    return df"
   ]
  },
  {
   "cell_type": "code",
   "execution_count": null,
   "metadata": {},
   "outputs": [],
   "source": [
    "# Adding column for subcompetence.observed_count\n",
    "full_df = add_count_column(full_df, 'Observed', 'subcompetence.observed_count')"
   ]
  },
  {
   "cell_type": "code",
   "execution_count": null,
   "metadata": {},
   "outputs": [],
   "source": [
    "# Adding column for subcompetence.notobserved_count\n",
    "full_df = add_count_column(full_df, 'Not observed', 'subcompetence.notobserved_count')"
   ]
  },
  {
   "cell_type": "markdown",
   "metadata": {},
   "source": [
    "##### Checking the attributes"
   ]
  },
  {
   "cell_type": "code",
   "execution_count": null,
   "metadata": {},
   "outputs": [],
   "source": [
    "full_df[(full_df['student.id'] == 7299) \n",
    "        & (full_df['semesters_from.enrollment'] == 2)\n",
    "        & (full_df['subcompetence.level_required'] == 'A')\n",
    "        & (full_df['subcompetence.level_assigned'] == 'Observed')\n",
    "        & (full_df['subcompetence.desc'] == 'Scientific thought')]['subcompetence.observed_count'].value_counts()"
   ]
  },
  {
   "cell_type": "markdown",
   "metadata": {},
   "source": [
    "#### 3.16 Drop rows with `subcompetence.level_assigned == NaN`\n",
    "\n",
    "**Considerations**\n",
    "> Null values for level_assigned are $\\approx3.4\\%$ of the rows. \n",
    ">\n",
    "> We can't be assume them as Observed or Not observed. \n",
    ">\n",
    "> We will analyze them to check if there is another evaluation with the same attribute except for the level_assigned, so, we can impute them.\n",
    ">\n",
    "> There are 57,482 rows with level_assigned == NaN and obeserved count == NaN or notobserved_count == NaN\n",
    ">\n",
    "> We drop them. 57,482 rows with null values in level_assigned dropped. 4,351,567 rows remaining."
   ]
  },
  {
   "cell_type": "code",
   "execution_count": null,
   "metadata": {},
   "outputs": [],
   "source": [
    "# Listing amount by values\n",
    "full_df['subcompetence.observed_count'].value_counts(dropna=False, normalize=True) *100"
   ]
  },
  {
   "cell_type": "code",
   "execution_count": null,
   "metadata": {},
   "outputs": [],
   "source": [
    "# Counting the rows with level_assigned == nan and observed count == NaN or notobserved_count == NaN\n",
    "temp_df = full_df[(full_df['subcompetence.level_assigned'].isna()) &\n",
    "                 ((full_df['subcompetence.observed_count'].isna()) |\n",
    "                  (full_df['subcompetence.notobserved_count'].isna()))]\n",
    "print(f'There are {len(temp_df.index)} rows with level_assigned == NaN and observed count == NaN or notobserved_count == NaN')"
   ]
  },
  {
   "cell_type": "code",
   "execution_count": null,
   "metadata": {},
   "outputs": [],
   "source": [
    "size_before = len(full_df.index)\n",
    "full_df.dropna(subset=['subcompetence.level_assigned'], inplace=True)\n",
    "print(f'{size_before-len(full_df.index)} rows with null values in level_assigned dropped.')\n",
    "print(f'New dataset has {len(full_df.index)} rows.')"
   ]
  },
  {
   "cell_type": "markdown",
   "metadata": {},
   "source": [
    "#### 3.17 Transform `subcompetence.level_assigned` to a Bool attribute `== True if at-least once is Observed else False`\n",
    "\n",
    "**Assumption**\n",
    "> There aren't any row with subcompetence.level_assigned == NaN. "
   ]
  },
  {
   "cell_type": "code",
   "execution_count": null,
   "metadata": {},
   "outputs": [],
   "source": [
    "# Transform level_assigned to a Bool attribute\n",
    "full_df['subcompetence.level_assigned'] = full_df['subcompetence.level_assigned'] == 'Observed'"
   ]
  },
  {
   "cell_type": "code",
   "execution_count": null,
   "metadata": {},
   "outputs": [],
   "source": [
    "full_df.dtypes"
   ]
  },
  {
   "cell_type": "code",
   "execution_count": null,
   "metadata": {},
   "outputs": [],
   "source": [
    "assert full_df[(full_df['student.id'] == 9455) & \n",
    "               (full_df['subcompetence.equivalent_key'] == 'SING0203A') &\n",
    "               (full_df['subject.longName'] == 'Intelligent Logistics Networks')]\\\n",
    "              ['subcompetence.level_assigned'].unique() == [False], \\\n",
    "        'Attribute is wrong computed'"
   ]
  },
  {
   "cell_type": "markdown",
   "metadata": {},
   "source": [
    "##### Dropping attribute student.lastTerm_gpa_program  because it has 510,009 null values."
   ]
  },
  {
   "cell_type": "code",
   "execution_count": null,
   "metadata": {},
   "outputs": [],
   "source": [
    "size_before = len(full_df.index)\n",
    "full_df.drop(columns=['student.lastTerm_gpa_program'], inplace=True)\n",
    "assert size_before == len(full_df.index), 'Error, some rows were dropped'"
   ]
  },
  {
   "cell_type": "markdown",
   "metadata": {},
   "source": [
    "##### Droping attribute is.LIFE because it has only False values."
   ]
  },
  {
   "cell_type": "code",
   "execution_count": null,
   "metadata": {},
   "outputs": [],
   "source": [
    "full_df['group.isLIFE'].value_counts()\n",
    "size_before = len(full_df.index)\n",
    "full_df.drop(columns=['group.isLIFE'], inplace=True)\n",
    "assert size_before == len(full_df.index), 'Error, some rows were dropped'"
   ]
  },
  {
   "cell_type": "markdown",
   "metadata": {},
   "source": [
    "##### Imputing missing fte using 𝑠𝑡𝑢𝑑𝑒𝑛𝑡.𝑠𝑢𝑗𝑒𝑐𝑡_𝑠𝑒𝑚𝑒𝑠𝑡𝑒𝑟_𝑒𝑛𝑟𝑜𝑙𝑙𝑒𝑑"
   ]
  },
  {
   "cell_type": "code",
   "execution_count": null,
   "metadata": {},
   "outputs": [],
   "source": [
    "# 11.0 is the standard number for formation units\n",
    "full_df['student.fte'] = full_df['student.suject_semester_enrolled']/11.0"
   ]
  },
  {
   "cell_type": "markdown",
   "metadata": {},
   "source": [
    "##### Imputing null values for student_grades.final_numeric_afterAdjustment\n",
    "**Remarks**\n",
    "- There are 1,075 null rows\n",
    "- There are rows with both categories for subcompetence.level_assigned.\n",
    "- There are rows with different semesters, subjects, subcompetencies, students, programs, etc.\n",
    "- We can use the attribute created `semesters_from.enrollment`. \n"
   ]
  },
  {
   "cell_type": "code",
   "execution_count": null,
   "metadata": {},
   "outputs": [],
   "source": [
    "dict = {0: 'First Semester',\n",
    "        1: 'Second Semester',\n",
    "        2: 'Third Semester',\n",
    "        3: 'Fourth Semester',\n",
    "        4: 'Fifth Semester',\n",
    "        5: 'Sixth Semester',\n",
    "        6: 'Seventh Semester'}\n",
    "def replace_no_information(row):\n",
    "    if row['student.semester_desc'] == 'No information':\n",
    "        return dict.get(row['semesters_from.enrollment'], 'No information')\n",
    "    elif pd.isnull(row['student.semester_desc']):\n",
    "        return dict.get(row['semesters_from.enrollment'], 'No information')\n",
    "    else:\n",
    "        return row['student.semester_desc']"
   ]
  },
  {
   "cell_type": "code",
   "execution_count": null,
   "metadata": {},
   "outputs": [],
   "source": [
    "# Imputing null values for semester with the attribute semesters.from_enrollment\n",
    "full_df['student.semester_desc'] = full_df.apply(replace_no_information, axis=1)"
   ]
  },
  {
   "cell_type": "markdown",
   "metadata": {},
   "source": [
    "#### 3.18 Adding attributes with the number of subcompetencies assesed by the formation unit "
   ]
  },
  {
   "cell_type": "code",
   "execution_count": null,
   "metadata": {},
   "outputs": [],
   "source": [
    "temp_df = full_df.groupby('subject.longName')['subcompetence.desc'].nunique().reset_index(name='subcompetencies_evaluated.count')\n",
    "full_df = pd.merge(left=full_df, right=temp_df, on=['subject.longName'])\n",
    "del temp_df"
   ]
  },
  {
   "cell_type": "markdown",
   "metadata": {},
   "source": [
    "#### 3.19 Adding attributes with the number of competencies assesed by the formation unit "
   ]
  },
  {
   "cell_type": "code",
   "execution_count": null,
   "metadata": {},
   "outputs": [],
   "source": [
    "temp_df = full_df.groupby('subject.longName')['competence.desc'].nunique().reset_index(name='competencies_evaluated.count')\n",
    "full_df = pd.merge(left=full_df, right=temp_df, on=['subject.longName'])\n",
    "del temp_df"
   ]
  },
  {
   "cell_type": "markdown",
   "metadata": {},
   "source": [
    "#### 3.20 Adding attributes with the number of formation units that asses the subcompetence."
   ]
  },
  {
   "cell_type": "code",
   "execution_count": null,
   "metadata": {},
   "outputs": [],
   "source": [
    "temp_df = full_df.groupby('subcompetence.desc')['subject.longName'].nunique().reset_index(name='subject_evaluating.count')\n",
    "full_df = pd.merge(left=full_df, right=temp_df, on=['subcompetence.desc'])\n",
    "del temp_df"
   ]
  },
  {
   "cell_type": "markdown",
   "metadata": {},
   "source": [
    "#### 3.21 Adding attributes with the number of formation units that asses the competence."
   ]
  },
  {
   "cell_type": "code",
   "execution_count": null,
   "metadata": {},
   "outputs": [],
   "source": [
    "temp_df = full_df.groupby('competence.desc')['subject.longName'].nunique().reset_index(name='subject_evaluating_competence.count')\n",
    "full_df = pd.merge(left=full_df, right=temp_df, on=['competence.desc'])\n",
    "del temp_df"
   ]
  },
  {
   "cell_type": "markdown",
   "metadata": {},
   "source": [
    "#### 3.22 Move the target attribute to the end of the dataframe"
   ]
  },
  {
   "cell_type": "code",
   "execution_count": null,
   "metadata": {},
   "outputs": [],
   "source": [
    "col_to_move = 'subcompetence.level_assigned'\n",
    "cols = list(full_df.columns)\n",
    "cols.append(cols.pop(cols.index(col_to_move)))\n",
    "full_df = full_df[cols]"
   ]
  },
  {
   "cell_type": "code",
   "execution_count": null,
   "metadata": {},
   "outputs": [],
   "source": [
    "print(f'The final dataframe has {len(full_df.columns)} columns and {len(full_df.index)} rows')"
   ]
  },
  {
   "cell_type": "code",
   "execution_count": null,
   "metadata": {},
   "outputs": [],
   "source": [
    "pd.set_option(\"display.max_column\", None)\n",
    "full_df.head()"
   ]
  },
  {
   "cell_type": "markdown",
   "metadata": {},
   "source": [
    "### Save the dataframe"
   ]
  },
  {
   "cell_type": "code",
   "execution_count": null,
   "metadata": {},
   "outputs": [],
   "source": [
    "full_df.to_csv(f'EICData/Transformed_full_df_with_studentid_v1.0.csv')"
   ]
  }
 ],
 "metadata": {
  "kernelspec": {
   "display_name": "jupytercudaenv",
   "language": "python",
   "name": "python3"
  },
  "language_info": {
   "codemirror_mode": {
    "name": "ipython",
    "version": 3
   },
   "file_extension": ".py",
   "mimetype": "text/x-python",
   "name": "python",
   "nbconvert_exporter": "python",
   "pygments_lexer": "ipython3",
   "version": "3.8.3"
  }
 },
 "nbformat": 4,
 "nbformat_minor": 2
}

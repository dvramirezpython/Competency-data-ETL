{
 "cells": [
  {
   "cell_type": "markdown",
   "id": "1c1faf10",
   "metadata": {},
   "source": [
    "# Competencies Analysis in Higher Education: a Machine Learning approach.\n",
    "### Data transformation for association"
   ]
  },
  {
   "cell_type": "markdown",
   "id": "2d12ec4c",
   "metadata": {},
   "source": [
    "**Hypothesis and research questions:**\n",
    "\n",
    "Our working hypothesis is that by applying data science (and machine learning) techniques to the data collected by Tecnologico de Monterrey, we shall be able to shed light about the relevance of each attribute. Also, we shall be capable of predicting the competence level for new students and describing contrast patterns covering subsets of students regarding the level they have reached for each (sub-)competence for all avenue programs. \n",
    "\n",
    "We shall address the following research questions:\n",
    "><ol>\n",
    "><li>What factors make a student likely to develop a certain competence?</li>\n",
    "><li>Which of those factors are of multiple types (academic, socio-demographic, etc.)?</li>\n",
    "><li>Can hierarchy of factors explain the level of competence developed by a student?</li>\n",
    "><li>Which attributes are relevant or irrelevant for correctly estimating competence development?</li>\n",
    "><li>How can we estimate, with a high degree of certainty, that a student would be able to top-level develop a set of competences?</li>\n",
    "><li>How can one use these results in order to provide students guidance and recommendations so that they are able to achieve their goals?</li>\n",
    "><li>How does this assessment help students face the labour market, i.e., digital, sustainable and cross-cutting competencies?</li>\n",
    "><li>What are the machine learning models with the highest performance metrics predicting the competence level of a new student?</li> \n",
    "><li>Which are the characteristics of the students regarding the level of competence achieved?</li>\n",
    "></ol>"
   ]
  },
  {
   "cell_type": "markdown",
   "id": "1eebf88d",
   "metadata": {},
   "source": [
    " Groups of programs\n",
    "<table cellspacing=\"0\" width=\"602\">\n",
    "              <tbody><tr bgcolor=\"#D0DDF0\">\n",
    "                <th colspan=\"4\" bgcolor=\"#E1E8F5\"><H3><p align=\"center\">Escuela de Ingeniería  y Ciencias</p></H3></th>\n",
    "              </tr>\n",
    "              <tr>\n",
    "                <th colspan=\"4\" bgcolor=\"#E2E2E2\"><div align=\"center\">\n",
    "                  Bioingeniería  y Procesos Químicos\n",
    "                </div></th>\n",
    "              </tr>\n",
    "              <tr>\n",
    "                <th bgcolor=\"#E2E2E2\">&nbsp;</th>\n",
    "                <th bgcolor=\"#E2E2E2\"><div align=\"left\">Siglas</div></th>\n",
    "                <th bgcolor=\"#E2E2E2\"><div align=\"left\">CIP</div></th>\n",
    "                <th bgcolor=\"#E2E2E2\">Nombre del programa</th>\n",
    "              </tr>\n",
    "              <tr class=\"even\">\n",
    "                <td><div align=\"center\">*</div></td>\n",
    "                <td><div align=\"left\"><a href=\"https://samp.itesm.mx/Programas/VistaPrograma?clave=IBQ19&amp;modoVista=Default&amp;idioma=ES&amp;cols=0\">IBQ</a></div></td>\n",
    "                <td><div align=\"left\">261201</div></td>\n",
    "                <td><div align=\"left\">\tIngeniería - Bioingeniería y Procesos Químicos (avenida)\n",
    "                / Exploración</div></td>\n",
    "              </tr>\n",
    "              <tr>\n",
    "                <td class=\"even\"><div align=\"center\">14</div></td>\n",
    "                <td class=\"even\"><div align=\"left\"><a class=\"link\" href=\"https://samp.itesm.mx/Programas/VistaPrograma?clave=IAG19&amp;modoVista=Default&amp;idioma=ES&amp;cols=0\">IAG </a></div></td>\n",
    "                <td class=\"even\"><div align=\"left\">011102</div></td>\n",
    "                <td class=\"even\"><div align=\"left\">Ingeniería en Biosistemas Agroalimentarios</div></td>\n",
    "              </tr>\n",
    "              <tr class=\"even\">\n",
    "                <td><div align=\"center\">15</div></td>\n",
    "                <td><div align=\"left\"><a href=\"https://samp.itesm.mx/Programas/VistaPrograma?clave=IAL19&amp;modoVista=Default&amp;idioma=ES&amp;cols=0\">IAL</a><a href=\"https://samp.itesm.mx/Programas/VistaPrograma?clave=IIA07\"></a></div></td>\n",
    "                <td><div align=\"left\">011002</div></td>\n",
    "                <td><div align=\"left\">Ingeniería en Alimentos</div></td>\n",
    "              </tr>\n",
    "              <tr>\n",
    "                <td class=\"even\"><div align=\"center\">16</div></td>\n",
    "                <td class=\"even\"><div align=\"left\"><a href=\"https://samp.itesm.mx/Programas/VistaPrograma?clave=IBT19&amp;modoVista=Default&amp;idioma=ES&amp;cols=0\" style=\"TEXT-TRANSFORM: none; COLOR: #6699cc; TEXT-DECORATION: underline\" #invalid_attr_id=\"11px Verdana, Arial, Helvetica, sans-serif\">IBT</a></div></td>\n",
    "                <td class=\"even\"><div align=\"left\">261201</div></td>\n",
    "                <td class=\"even\"><div align=\"left\"><span style=\"mso-ansi-language: ES-MX\" lang=\"ES-MX\" xml:lang=\"ES-MX\"><span s=\"s\">Ingeniería en Biotecnología</span></span></div></td>\n",
    "              </tr>\n",
    "              <tr class=\"even\">\n",
    "                <td><div align=\"center\">17</div></td>\n",
    "                <td><div align=\"left\"><a href=\"https://samp.itesm.mx/Programas/VistaPrograma?clave=IDS19&amp;modoVista=Default&amp;idioma=ES&amp;cols=0\">IDS</a></div></td>\n",
    "                <td><div align=\"left\">141401</div></td>\n",
    "                <td><div align=\"left\"><span style=\"mso-ansi-language: ES-MX\" lang=\"ES-MX\" xml:lang=\"ES-MX\"><span s=\"s\">Ingeniería en Desarrollo Sustentable</span></span></div></td>\n",
    "              </tr>\n",
    "              <tr>\n",
    "                <td class=\"even\"><div align=\"center\">18</div></td>\n",
    "                <td class=\"even\"><div align=\"left\"><a href=\"https://samp.itesm.mx/Programas/VistaPrograma?clave=IQ 19&amp;modoVista=Default&amp;idioma=ES&amp;cols=0\" style=\"TEXT-TRANSFORM: none; COLOR: #6699cc; TEXT-DECORATION: underline\" #invalid_attr_id=\"11px Verdana, Arial, Helvetica, sans-serif\">IQ</a></div></td>\n",
    "                <td class=\"even\"><div align=\"left\">140701</div></td>\n",
    "                <td class=\"even\"><div align=\"left\"><span style=\"mso-ansi-language: ES-MX\" lang=\"ES-MX\" xml:lang=\"ES-MX\"><span s=\"s\"> Ingeniería Química</span></span></div></td>\n",
    "              </tr>\n",
    "              <tr>\n",
    "                <th colspan=\"4\" bgcolor=\"#E2E2E2\"><div align=\"center\">Ciencias Aplicadas</div></th>\n",
    "              </tr>\n",
    "              <tr>\n",
    "                <th bgcolor=\"#E2E2E2\">&nbsp;</th>\n",
    "                <th bgcolor=\"#E2E2E2\"><div align=\"left\">Siglas</div></th>\n",
    "                <th bgcolor=\"#E2E2E2\"><div align=\"left\">CIP</div></th>\n",
    "                <th bgcolor=\"#E2E2E2\">Nombre del programa</th>\n",
    "              </tr>\n",
    "              <tr class=\"even\">\n",
    "                <td><div align=\"center\">*</div></td>\n",
    "                <td><div align=\"left\"><a href=\"https://samp.itesm.mx/Programas/VistaPrograma?clave=ICI19&amp;modoVista=Default&amp;idioma=ES&amp;cols=0\">ICI</a></div></td>\n",
    "                <td><div align=\"left\">141201</div></td>\n",
    "                <td><div align=\"left\">Ingeniería - Ciencias Aplicadas (avenida) / Exploración</div></td>\n",
    "              </tr>\n",
    "              <tr>\n",
    "                <td class=\"even\"><div align=\"center\">19</div></td>\n",
    "                <td class=\"even\"><div align=\"left\"><a href=\"https://samp.itesm.mx/Programas/VistaPrograma?clave=IDM19&amp;modoVista=Default&amp;idioma=ES&amp;cols=0\">IDM</a></div></td>\n",
    "                <td class=\"even\"><div align=\"left\">270301</div></td>\n",
    "                <td class=\"even\"><div align=\"left\">Ingeniería en Ciencia de Datos y Matemáticas</div></td>\n",
    "              </tr>\n",
    "              <tr class=\"even\">\n",
    "                <td><div align=\"center\">20</div></td>\n",
    "                <td><div align=\"left\"><a href=\"https://samp.itesm.mx/Programas/VistaPrograma?clave=IFI19&amp;modoVista=Default&amp;idioma=ES&amp;cols=0\">IFI</a></div></td>\n",
    "                <td><div align=\"left\">141201</div></td>\n",
    "                <td><div align=\"left\">Ingeniería en Física Industrial</div></td>\n",
    "              </tr>\n",
    "              <tr class=\"even\">\n",
    "                <td><div align=\"center\">21</div></td>\n",
    "                <td><div align=\"left\"><a href=\"https://samp.itesm.mx/Programas/VistaPrograma?clave=INA19&amp;modoVista=Default&amp;idioma=ES&amp;cols=0\">INA</a></div></td>\n",
    "                <td><div align=\"left\">143101</div></td>\n",
    "                <td><div align=\"left\">Ingeniería en Nanotecnología</div></td>\n",
    "              </tr>\n",
    "              <tr>\n",
    "                <th colspan=\"4\" bgcolor=\"#E2E2E2\"> <div align=\"center\" class=\"HomeHoverLink\">\n",
    "                  <div align=\"center\">\n",
    "                    Ciencias Computacionales y Tecnologías de Información\n",
    "                  </div>\n",
    "                </div></th>\n",
    "              </tr>\n",
    "              <tr>\n",
    "                <th bgcolor=\"#E2E2E2\">&nbsp;</th>\n",
    "                <th bgcolor=\"#E2E2E2\"><div align=\"left\">Siglas</div></th>\n",
    "                <th bgcolor=\"#E2E2E2\"><div align=\"left\">CIP</div></th>\n",
    "                <th bgcolor=\"#E2E2E2\">Nombre del programa</th>\n",
    "              </tr>\n",
    "              <tr class=\"even\">\n",
    "                <td><div align=\"center\">*</div></td>\n",
    "                <td><div align=\"left\"><a href=\"https://samp.itesm.mx/Programas/VistaPrograma?clave=ICT19&amp;modoVista=Default&amp;idioma=ES&amp;cols=0\">ICT</a></div></td>\n",
    "                <td><div align=\"left\">110103</div></td>\n",
    "                <td><div align=\"left\">Ingeniería - Computación y Tecnologías de Información (avenida) / Exploración</div></td>\n",
    "              </tr>\n",
    "              <tr>\n",
    "                <td class=\"even\"><div align=\"center\">22</div></td>\n",
    "                <td class=\"even\"><div align=\"left\"><a href=\"https://samp.itesm.mx/Programas/VistaPrograma?clave=IRS19&amp;modoVista=Default&amp;idioma=ES&amp;cols=0\">IRS</a></div></td>\n",
    "                <td class=\"even\"><div align=\"left\">140901</div></td>\n",
    "                <td class=\"even\"><div align=\"left\">Ingeniería en Robótica y Sistemas Digitales</div></td>\n",
    "              </tr>\n",
    "              <tr class=\"even\">\n",
    "                <td><div align=\"center\">23</div></td>\n",
    "                <td><div align=\"left\"><a href=\"https://samp.itesm.mx/Programas/VistaPrograma?clave=ITC19&amp;modoVista=Default&amp;idioma=ES&amp;cols=0\">ITC</a></div></td>\n",
    "                <td><div align=\"left\">110701</div></td>\n",
    "                <td><div align=\"left\">Ingeniería en Tecnologías Computacionales</div></td>\n",
    "              </tr>\n",
    "              <tr>\n",
    "                <td class=\"even\"><div align=\"center\">24</div></td>\n",
    "                <td class=\"even\"><div align=\"left\"><a href=\"https://samp.itesm.mx/Programas/VistaPrograma?clave=ITD19&amp;modoVista=Default&amp;idioma=ES&amp;cols=0\">ITD</a></div></td>\n",
    "                <td class=\"even\"><div align=\"left\">521201</div></td>\n",
    "                <td class=\"even\"><div align=\"left\">Ingeniería en Transformación Digital de Negocios</div></td>\n",
    "              </tr>\n",
    "              <tr>\n",
    "                <th colspan=\"4\" bgcolor=\"#E2E2E2\"> <div align=\"center\" class=\"HomeHoverLink\">\n",
    "                  <div align=\"center\">\n",
    "                    Innovación y Transformación\n",
    "                  </div>\n",
    "                </div></th>\n",
    "              </tr>\n",
    "              <tr>\n",
    "                <th bgcolor=\"#E2E2E2\">&nbsp;</th>\n",
    "                <th bgcolor=\"#E2E2E2\"><div align=\"left\">Siglas</div></th>\n",
    "                <th bgcolor=\"#E2E2E2\"><div align=\"left\">CIP</div></th>\n",
    "                <th bgcolor=\"#E2E2E2\">Nombre del programa</th>\n",
    "              </tr>\n",
    "              <tr class=\"even\">\n",
    "                <td><div align=\"center\">*</div></td>\n",
    "                <td><div align=\"left\"><a href=\"https://samp.itesm.mx/Programas/VistaPrograma?clave=AMC19&amp;modoVista=Default&amp;idioma=ES&amp;cols=0\">AMC</a></div></td>\n",
    "                <td><div align=\"left\">040201</div></td>\n",
    "                <td><div align=\"left\">Ambiente Construido/ Exploración</div></td>\n",
    "              </tr>\n",
    "              <tr>\n",
    "                <td class=\"even\"><div align=\"center\">*</div></td>\n",
    "                <td class=\"even\"><div align=\"left\"><a href=\"https://samp.itesm.mx/Programas/VistaPrograma?clave=IIT19&amp;modoVista=Default&amp;idioma=ES&amp;cols=0\">IIT</a></div></td>\n",
    "                <td class=\"even\"><div align=\"left\">140101</div></td>\n",
    "                <td class=\"even\"><div align=\"left\">Ingeniería - Innovación y Transformación (avenida) / Exploración</div></td>\n",
    "              </tr>\n",
    "              <tr class=\"even\">\n",
    "                <td><div align=\"center\">25</div></td>\n",
    "                <td><div align=\"left\"><a href=\"https://samp.itesm.mx/Programas/VistaPrograma?clave=BIE22&amp;modoVista=Default&amp;idioma=ES&amp;cols=0\">BIE</a></div></td>\n",
    "                <td><div align=\"left\">143501</div></td>\n",
    "                <td><div align=\"left\">Ingeniería Industrial y de Sistemas</div></td>\n",
    "              </tr>\n",
    "              <tr>\n",
    "                <td class=\"even\"><div align=\"center\">26</div></td>\n",
    "                <td class=\"even\"><div align=\"left\"><a href=\"https://samp.itesm.mx/Programas/VistaPrograma?clave=BME22&amp;modoVista=Default&amp;idioma=ES&amp;cols=0\">BME</a></div></td>\n",
    "                <td class=\"even\"><div align=\"left\">141001</div></td>\n",
    "                <td class=\"even\"><div align=\"left\">Ingeniería en Mecatrónica</div></td>\n",
    "              </tr>\n",
    "              <tr class=\"even\">\n",
    "                <td><div align=\"center\">27</div></td>\n",
    "                <td><div align=\"left\"><a href=\"https://samp.itesm.mx/Programas/VistaPrograma?clave=IC 19&amp;modoVista=Default&amp;idioma=ES&amp;cols=0\">IC</a></div></td>\n",
    "                <td><div align=\"left\">140801</div></td>\n",
    "                <td><div align=\"left\">Ingeniería Civil</div></td>\n",
    "              </tr>\n",
    "              <tr>\n",
    "                <td class=\"even\"><div align=\"center\">28</div></td>\n",
    "                <td class=\"even\"><div align=\"left\"><a href=\"https://samp.itesm.mx/Programas/VistaPrograma?clave=IE 19&amp;modoVista=Default&amp;idioma=ES&amp;cols=0\">IE</a></div></td>\n",
    "                <td class=\"even\"><div align=\"left\">141001&nbsp;&nbsp;&nbsp; </div></td>\n",
    "                <td class=\"even\"><div align=\"left\">Ingeniería en Electrónica</div></td>\n",
    "              </tr>\n",
    "              <tr class=\"even\">\n",
    "                <td><div align=\"center\">29</div></td>\n",
    "                <td><div align=\"left\"><a href=\"https://samp.itesm.mx/Programas/VistaPrograma?clave=IID19&amp;modoVista=Default&amp;idioma=ES&amp;cols=0\">IID</a></div></td>\n",
    "                <td><div align=\"left\">140101</div></td>\n",
    "                <td><div align=\"left\">Ingeniería en Innovación y Desarrollo</div></td>\n",
    "              </tr>\n",
    "              <tr>\n",
    "                <td class=\"even\"><div align=\"center\">30</div></td>\n",
    "                <td class=\"even\"><div align=\"left\"><a href=\"https://samp.itesm.mx/Programas/VistaPrograma?clave=IIS19&amp;modoVista=Default&amp;idioma=ES&amp;cols=0\">IIS</a></div></td>\n",
    "                <td class=\"even\"><div align=\"left\">143501</div></td>\n",
    "                <td class=\"even\"><div align=\"left\">Ingeniería Industrial y de Sistemas</div></td>\n",
    "              </tr>\n",
    "              <tr class=\"even\">\n",
    "                <td><div align=\"center\">31</div></td>\n",
    "                <td><div align=\"left\"><a href=\"https://samp.itesm.mx/Programas/VistaPrograma?clave=IM 19&amp;modoVista=Default&amp;idioma=ES&amp;cols=0\">IM</a></div></td>\n",
    "                <td><div align=\"left\">141901</div></td>\n",
    "                <td><div align=\"left\">Ingeniería Mecánica</div></td>\n",
    "              </tr>\n",
    "              <tr>\n",
    "                <td class=\"even\"><div align=\"center\">32</div></td>\n",
    "                <td class=\"even\"><div align=\"left\"><a href=\"https://samp.itesm.mx/Programas/VistaPrograma?clave=IMD19&amp;modoVista=Default&amp;idioma=ES&amp;cols=0\">IMD</a></div></td>\n",
    "                <td class=\"even\"><div align=\"left\">140501</div></td>\n",
    "                <td class=\"even\"><div align=\"left\">Ingeniería Biomédica</div></td>\n",
    "              </tr>\n",
    "              <tr class=\"even\">\n",
    "                <td><div align=\"center\">33</div></td>\n",
    "                <td><div align=\"left\"><a href=\"https://samp.itesm.mx/Programas/VistaPrograma?clave=IMT19&amp;modoVista=Default&amp;idioma=ES&amp;cols=0\">IMT</a></div></td>\n",
    "                <td><div align=\"left\">141001</div></td>\n",
    "                <td><div align=\"left\">Ingeniería en Mecatrónica</div></td>\n",
    "              </tr>\n",
    "              </tbody><tbody>\n",
    "              </tbody>\n",
    "            </table>"
   ]
  },
  {
   "cell_type": "markdown",
   "id": "f64f31ff",
   "metadata": {},
   "source": [
    "##### Raw data dictionary\n",
    "\n",
    "**Variable** --> **Description**\n",
    "<ol>\n",
    "<li>student.id --> Student's masked enrollment identifier</li>\n",
    "<li>term_period.id --> Identifier of the student´s academic period. In this case, the period corresponds to each semester August-December (AD) and February-June (FJ) from 2019 to 2022, respectively</li>\n",
    "<li>student.age --> Student's age in the reported academic period</li>\n",
    "<li>student.gender_desc --> Student's gender</li>\n",
    "<li>student.nationality --> Student's nationality</li>\n",
    "<li>student.isForeign --> Indicator that denotes whether the student is local or foreign. That is, students are local if their current residence is in the same city as the Campus where they are enrolled (0). Otherwise, students are foreigners (1)</li>\n",
    "<li>student_originSchool.isITESM --> Indicator that denotes whether the student comes from a school that belongs to Tecnologico de Monterrey</li>\n",
    "<li>campus.region_name --> Code of the region to which the Campus where the student is enrolled belongs</li>\n",
    "<li>student.status_desc --> Description of the student's academic status</li>\n",
    "<li>student.isConditioned --> Indicator that denotes whether the student is in conditional academic status</li>\n",
    "<li>student.cohort_id --> Year of admission (cohort) of the student to Tecnologico de Monterrey</li>\n",
    "<li>program.major_id --> Acronym of the academic program to which the student belongs</li>\n",
    "<li>student.semester_desc --> Description of the semester to which the student belongs</li>\n",
    "<li>student.lastTerm_gpa --> Average of the last academic term completed by the student. Where the academic term represents the period of the year to which the information refers. For example, semester</li>\n",
    "<li>student.lastTerm_gpa_program --> Global average of the student's academic program at the last academic term completed (includes failed subjects)</li>\n",
    "<li>student.term_gpa_program --> Global average of the student's academic program for the closing of the consulted academic term (includes failed subjects)</li>\n",
    "<li>student.fte --> Indicates whether the student is a full-time student (value equal to 1) or the equivalent value of the time the student spends at Tecnologico de Monterrey according to the number of subjects enrolled</li>\n",
    "<li>program.school_id --> Acronym of the school to which the student's academic program belongs</li>\n",
    "<li>subject.tec21Type_desc --> Type of Educational Unit in the TEC21 Model</li>\n",
    "<li>subject.type_desc --> Description of the type of subject</li>\n",
    "<li>subject.longName --> Subject's name</li>\n",
    "<li>group.id  --> Identifier of the subject's group</li>\n",
    "<li>group.isLIFE --> Indicator that denotes whether the group belongs to the LiFE (Leadership and Student Education) program</li>\n",
    "<li>group.isVirtual --> Indicator that denotes whether the classes in this group are taught virtually</li>\n",
    "<li>group.isAcademicSupport --> Indicator that denotes whether the group is of academic support</li>\n",
    "<li>group.isEnglishLanguage --> Indicator that denotes whether the classes in this group are taught in the English language</li>\n",
    "<li>student_grades.final_numeric_afterAdjustment --> Student's final grade in the subject</li>\n",
    "<li>group.modality --> Group's modality</li>\n",
    "<li>group.period --> Period of the semester in which the Educational Unit is carried out</li>\n",
    "<li>group.duration_weeks --> Duration in weeks of the Educational Unit</li>\n",
    "<li>competence.desc --> Competency's name</li>\n",
    "<li>subcompetence.desc --> Subcompetency's name</li>\n",
    "<li>competence.type --> Type of competency</li>\n",
    "<li>subcompetence.level_required --> Mastery level required to be developed in the subcompetency</li>\n",
    "<li>subcompetence.level_assigned --> Result of the assessment of the subcompetency per student</li>\n",
    "<li>group.hasEvaluationInst --> Indicator that denotes whether the Educational Unit has an associated evaluation instrument. \n",
    "<li>group_schedule.startDate --> Start date of the Educational Unit in Canvas</li>\n",
    "<li>group_schedule.endDate --> Completion date of the Educational Unit in Canvas</li>\n",
    "<li>group_activity.tool --> Name of the external tool associated with the activity as entered by the user</li>\n",
    "<li>group.activities_count --> Variable that indicates the total number of training activities per group of the Educational Unit</li>\n",
    "<li>group.assignments_count --> Variable that indicates the total number of tasks per group of the Educational Unit</li>\n",
    "<li>group_activity.desc --> Name of the activity of the Educational Unit's group</li>\n",
    "<li>group_activity.status --> Indicates the publication status of the activity in Canvas</li>\n",
    "<li> evidence.desc --> Name of the evidence in eLumen</li>\n",
    "<li>group_activity.descStatus_count --> Frequency of the same type of activity registered in Canvas in the Educational Unit's group according to the publication status of the activity</li>\n",
    "</ol>"
   ]
  },
  {
   "cell_type": "markdown",
   "id": "11ac0bfa",
   "metadata": {},
   "source": [
    "##### Procedure\n",
    "**Steps**\n",
    "<ol>\n",
    "    <li>Load data and create a full dataset.</li>\n",
    "    <li>Data tidiness.</li>\n",
    "        <ol>\n",
    "            <li>Add new attributes</li>\n",
    "            <li>Transform attributes</li>\n",
    "            <li>Drop unique attributes</li>\n",
    "            <li>Impute or drop null values</li>\n",
    "            <li>Merge equivalent subcompetencies in a new attribute.</li>\n",
    "        </ol>\n",
    "    <li>Group datasets according to certain criteria.</li>\n",
    "        <ol>\n",
    "            <li>Describe each group</li>\n",
    "        </ol>\n",
    "    <li>Mine contrast patterns and association rules for each dataframe.</li>\n",
    "</ol>"
   ]
  },
  {
   "cell_type": "markdown",
   "id": "6322271f",
   "metadata": {},
   "source": [
    "##### Programs dictionary"
   ]
  },
  {
   "cell_type": "markdown",
   "id": "1ea4f350",
   "metadata": {},
   "source": [
    "#### Mounting drive"
   ]
  },
  {
   "cell_type": "code",
   "execution_count": 1,
   "id": "e59ed3fb",
   "metadata": {},
   "outputs": [],
   "source": [
    "# from google.colab import drive\n",
    "# drive.mount('/content/drive')"
   ]
  },
  {
   "cell_type": "markdown",
   "id": "f1bbc5b2",
   "metadata": {},
   "source": [
    "###### Installation section"
   ]
  },
  {
   "cell_type": "code",
   "execution_count": 2,
   "id": "6a86afcb",
   "metadata": {},
   "outputs": [],
   "source": [
    "# !pip3 install sklearn\n",
    "# !pip3 install PBC4Cip"
   ]
  },
  {
   "cell_type": "markdown",
   "id": "6ba9332e",
   "metadata": {},
   "source": [
    "##### Import section\n",
    "\n",
    "**Set the `path_files` var to your local data repository**"
   ]
  },
  {
   "cell_type": "code",
   "execution_count": 1,
   "id": "575b3a47",
   "metadata": {},
   "outputs": [],
   "source": [
    "import stat\n",
    "import plotly.graph_objects as go\n",
    "from plotly.subplots import make_subplots\n",
    "import pandas as pd\n",
    "import numpy as np\n",
    "import re\n",
    "from datetime import datetime\n",
    "from ete3 import Tree\n",
    "import warnings\n",
    "import plotly.express as px\n",
    "import seaborn as sbn\n",
    "from ipywidgets import widgets\n",
    "warnings.filterwarnings('ignore')\n",
    "path_files = r'EICData'\n",
    "# path_files= r'/content/drive/MyDrive/Proyecto-Tec21Competences-DataAnalysis/sourcecode/assets/EIC'\n",
    "# path_files = r'EIC-20230322T203344Z-001/EIC'"
   ]
  },
  {
   "cell_type": "markdown",
   "id": "876c5b93",
   "metadata": {},
   "source": [
    "#### CONST"
   ]
  },
  {
   "cell_type": "code",
   "execution_count": 2,
   "id": "3920c2a2",
   "metadata": {},
   "outputs": [],
   "source": [
    "avenue_programs = ['IBQ', 'ICI', 'ICT', 'IIT']"
   ]
  },
  {
   "cell_type": "markdown",
   "id": "7ef21657",
   "metadata": {},
   "source": [
    "## 1. Loading datasets and showing general information\n",
    "This sourcecode:\n",
    "> Loads all databases into one dataframe.\n",
    ">\n",
    "> Parses datetime data from `%d-%m-%Y` to `%d/%m/%Y`.\n",
    ">\n",
    "> Parses problematic columns $36$, $37$, $38$, $41$, $42$, and $43$ to the appropriate type.\n",
    ">\n",
    "> Parses subcompetencies with $[A-Z]{3}[0-9]{4}[A-Z]_$ to the corresponding subcompetence name.\n",
    ">\n",
    "> Parses subcompetencies from `Scientific thought` and `Pensamiento cientÍ\\xadfico` to `Scientific thinking`.\n",
    ">\n",
    "> Removes white spaces at the begining and end of each competence and subcompetence name.\n",
    ">\n",
    "> Removes rows with empty `competence.desc` and `subcompetence.desc`.\n",
    ">\n",
    "> Renames column `Pais de nacimiento` as `student.nationality`.\n",
    ">\n",
    "> Converts binary variables to bool attributes.\n",
    ">\n",
    "> Removes column `group.isAcademicSupport` because it has only values $0$.\n",
    ">\n",
    "> Transform `student.gender_desc` to a bool attribute `student.isWoman`.\n",
    ">\n",
    "> Transform `student_originSchool.isITESM` to a bool attribute.\n",
    ">\n",
    "> Transform `student.isForeign` to a bool attribute.\n",
    ">\n",
    "> Transform `group.isEnglishLanguage` to a bool attribute.\n",
    ">\n",
    "> Transform `group.hasEvaluationInst` to a bool attribute.\n",
    ">\n",
    "> Transform `student.isConditioned` to a bool attribute.\n",
    ">\n",
    "> Transform `subcompetence.level_assigned` (Observed, Not observed) to a Bool attribute.\n",
    "\n",
    "\n",
    "**TODO**\n",
    "<ol>\n",
    "<li> Filter $NaN$ values</li>\n",
    "<li> Analyze students with $student.isConditioned$ $==$ $'Conditioned'$</li>\n",
    "</ol>"
   ]
  },
  {
   "cell_type": "code",
   "execution_count": 3,
   "id": "3994b9c2",
   "metadata": {},
   "outputs": [],
   "source": [
    "def parse_dates_format(unformatted_date):\n",
    "    if (str(unformatted_date) == 'nan') or (unformatted_date is pd.NaT):\n",
    "        return pd.NaT\n",
    "    else:\n",
    "        return pd.to_datetime(unformatted_date, format='%d-%m-%Y').dt.strftime('%d/%m/%Y')\n",
    "\n",
    "assert(parse_dates_format(np.NaN) is pd.NaT, 'Error parsing date format')\n",
    "#assert(parse_dates_format('01-01-2020') == pd.to_datetime('01-01-2020',format='%d-%m-%Y'), 'Wrong date format')"
   ]
  },
  {
   "cell_type": "code",
   "execution_count": 4,
   "id": "dc29f541",
   "metadata": {},
   "outputs": [],
   "source": [
    "def parse_subcompetence(name):\n",
    "    name = str(name)\n",
    "    name = re.sub(r'[A-Z]{3}[0-9]{4}[A-Z]? ', '', name)\n",
    "    name = name.strip()\n",
    "    name = name.replace('SApplication of standards and standards', 'Application of standards and standards')\n",
    "    name = name.replace('SScenario Development', 'Scenario development')\n",
    "    name = name.replace('Scenario Development', 'Scenario development')\n",
    "    name = name.replace('SInterpretation of variables', 'Interpretation of variables')\n",
    "    name = 'Scientific thinking' if name == 'Scientific thought' or name.__contains__('Pensamiento') else name\n",
    "    name = name.replace('Principios del Estado de Derecho y de la cultura de la legalidad', 'Principles of the Rule of Law and the Culture of Legality')\n",
    "    name = name.replace(u'\\u200b', '')  # remove zero-width space\n",
    "    return name\n",
    "\n",
    "assert(parse_subcompetence('SEG0981A ') == ''), 'Error replacing regular expression'\n",
    "assert(parse_subcompetence('Scientific thought') == 'Scientific thinking'), 'Error parsing subcompetence'\n",
    "assert(parse_subcompetence('Pensamiento científico') == 'Scientific thinking'), 'Error parsing subcompetence'"
   ]
  },
  {
   "cell_type": "code",
   "execution_count": 5,
   "id": "08c2d4f2",
   "metadata": {},
   "outputs": [],
   "source": [
    "database_list = ['EIC-IQ','EIC-IRS','EIC-ITC','EIC-ITD','EIC-IAG','EIC-IAL',\n",
    "                 'EIC-IBQ','EIC-IBT','EIC-IC','EIC-ICI','EIC-ICT','EIC-IDM',\n",
    "                 'EIC-IDS','EIC-IE','EIC-IFI','EIC-IID','EIC-IIS','EIC-IIT',\n",
    "                 'EIC-IM','EIC-IMD','EIC-IMT','EIC-INA']"
   ]
  },
  {
   "cell_type": "code",
   "execution_count": 6,
   "id": "59181df4",
   "metadata": {},
   "outputs": [],
   "source": [
    "column_names = ['student.id','term_period.id','student.age','student.gender_desc','Desc Pais Nacimiento','student.isForeign',\n",
    "                'student_originSchool.isITESM','campus.region_name','student.status_desc','student.isConditioned',\n",
    "                'student.cohort.id','program.major_id','student.semester_desc','student.lastTerm_gpa',\n",
    "                'student.lastTerm_gpa_program','student.term_gpa_program','student.fte','program.school_id',\n",
    "                'subject.longName','subject.tec21Type_desc','subject.type_desc','group.id','group.isLIFE',\n",
    "                'group.isVirtual','group.isEnglishLanguage','group.isAcademicSupport',\n",
    "                'student_grades.final_numeric_afterAdjustment','group.modality','group.period','group.duration_weeks',\n",
    "                'competence.desc','subcompetence.desc','competence.type','subcompetence.level_required',\n",
    "                'subcompetence.level_assigned','group.hasEvaluationInst','group_schedule.startDate','group_schedule.endDate',\n",
    "                'group_activity.tool','group.activities_count','group.assignments_count','group_activity.desc',\n",
    "                'group_activity.status','evidence.desc','group_activity.descStatus_count']"
   ]
  },
  {
   "cell_type": "code",
   "execution_count": null,
   "id": "1f7b5632",
   "metadata": {},
   "outputs": [],
   "source": [
    "full_df = pd.concat([pd.read_csv(f'{path_files}/{database}.csv',\n",
    "                                  dtype={\n",
    "                                      column_names[10-1]: bool,\n",
    "                                      column_names[11-1]: str,\n",
    "                                      column_names[13-1]: str,\n",
    "                                      column_names[22-1]: 'Int64',\n",
    "                                      column_names[26-1]: bool,\n",
    "                                      column_names[31-1]: str,\n",
    "                                      column_names[32-1]: str,\n",
    "                                      column_names[35-1]: str,\n",
    "                                      column_names[36-1]: str,\n",
    "                                      column_names[40-1]: 'Int64',\n",
    "                                      column_names[41-1]: 'Int64',\n",
    "                                      column_names[42-1]: str,\n",
    "                                      column_names[43-1]: str,\n",
    "                                      column_names[45-1]: 'Int64',\n",
    "                                  }) for database in database_list])\n",
    "full_df = full_df.drop('group.isAcademicSupport', axis=1)\n",
    "full_df.dropna(subset=[column_names[31-1], column_names[32-1]], how='all', inplace=True)\n",
    "full_df[[column_names[37-1]]] = full_df[[column_names[37-1]]].apply(lambda x: parse_dates_format(x))\n",
    "full_df[[column_names[38-1]]] = full_df[[column_names[38-1]]].apply(lambda x: parse_dates_format(x))\n",
    "full_df.rename(columns={'Desc Pais Nacimiento':'student.nationality'}, inplace=True)\n",
    "full_df[column_names[31-1]] = full_df[column_names[31-1]].str.strip()\n",
    "full_df[column_names[32-1]] = full_df[column_names[32-1]].apply(lambda x: parse_subcompetence(x))\n",
    "# print(len(full_df.index))\n",
    "# full_df.head()\n",
    "print('All databases loaded and merged into one dataframe!')"
   ]
  },
  {
   "cell_type": "code",
   "execution_count": null,
   "id": "bba3dc84",
   "metadata": {},
   "outputs": [],
   "source": [
    "# There are 209,034 subcompetence.level_assigned = NaN. So, we need to drop them\n",
    "full_df['subcompetence.level_assigned'].value_counts(dropna=False)"
   ]
  },
  {
   "cell_type": "code",
   "execution_count": null,
   "id": "82e080e6",
   "metadata": {},
   "outputs": [],
   "source": [
    "previous_length = len(full_df.index)\n",
    "full_df.dropna(subset=['subcompetence.level_assigned'], inplace=True)\n",
    "print(f'{previous_length - len(full_df.index)} rows dropped.\\nNew dataframe len is {len(full_df.index)}')"
   ]
  },
  {
   "cell_type": "code",
   "execution_count": 12,
   "id": "46825f3e",
   "metadata": {},
   "outputs": [],
   "source": [
    "#print(len(full_df.index))\n",
    "#print(len(full_df.columns))\n",
    "#temp_df = pd.read_csv(f'{path_files}/Transformed_full_df_with_studentid_v5.2.csv')"
   ]
  },
  {
   "cell_type": "code",
   "execution_count": 13,
   "id": "b1b6f7db",
   "metadata": {},
   "outputs": [],
   "source": [
    "#print(len(temp_df.index))"
   ]
  },
  {
   "cell_type": "code",
   "execution_count": 10,
   "id": "c3923da7",
   "metadata": {},
   "outputs": [],
   "source": [
    "# Filter different terms used for female\n",
    "full_df['student.isWoman'] = full_df['student.gender_desc'].map(lambda item: True \n",
    "                                                                if item.strip().lower() == 'female' \n",
    "                                                                else False)\n",
    "full_df.drop(columns=['student.gender_desc'], inplace=True)"
   ]
  },
  {
   "cell_type": "code",
   "execution_count": 11,
   "id": "66e1e38e",
   "metadata": {},
   "outputs": [],
   "source": [
    "# Filter different terms used for tec\n",
    "full_df['student_originSchool.isITESM'] = full_df['student_originSchool.isITESM'].map(lambda item: True \n",
    "                                                                                      if item.strip().lower() == 'tec' \n",
    "                                                                                      else False)"
   ]
  },
  {
   "cell_type": "code",
   "execution_count": 12,
   "id": "012fd79c",
   "metadata": {
    "scrolled": true
   },
   "outputs": [],
   "source": [
    "# Filter different terms used for yes\n",
    "full_df['group.hasEvaluationInst'] = full_df['group.hasEvaluationInst'].map(lambda x: True \n",
    "                                                                            if str(x).strip().lower() == 'yes' \n",
    "                                                                            else False)"
   ]
  },
  {
   "cell_type": "code",
   "execution_count": 13,
   "id": "de6c7188",
   "metadata": {},
   "outputs": [],
   "source": [
    "full_df[['student.isForeign','group.isEnglishLanguage','group.isVirtual','group.isLIFE']] = \\\n",
    "    full_df[['student.isForeign',\n",
    "             'group.isEnglishLanguage', \n",
    "             'group.isVirtual',\n",
    "             'group.isLIFE']].applymap(lambda x: True \n",
    "                                       if x == 1 \n",
    "                                       else False)"
   ]
  },
  {
   "cell_type": "code",
   "execution_count": 14,
   "id": "9fa6803c",
   "metadata": {},
   "outputs": [],
   "source": [
    "# Replacing the N/V value for the subject 'Chemical Experimentation and Statistical Thinking I',\n",
    "# which is dictated during 5 weeks in the 2nd period of the semester.\n",
    "full_df['group.period'].replace('N/V', '2', inplace=True)"
   ]
  },
  {
   "cell_type": "code",
   "execution_count": 15,
   "id": "27f08313",
   "metadata": {},
   "outputs": [],
   "source": [
    "# Creating the attribute group.duration from group.period\n",
    "def groupDuration_from_groupPeriod(item):\n",
    "    if item == '1' or item == '2' or item == '3': return 5\n",
    "    if item == '1--2' or item =='2--3': return 10\n",
    "    if item == '1--3': return 15\n",
    "    else: return 0"
   ]
  },
  {
   "cell_type": "code",
   "execution_count": 16,
   "id": "fd015c98",
   "metadata": {},
   "outputs": [],
   "source": [
    "full_df.drop(columns=['group.duration_weeks'], inplace=True)\n",
    "full_df['group.duration_weeks'] = \\\n",
    "    full_df['group.period'].map(groupDuration_from_groupPeriod).astype('Int64')\n",
    "#full_df['group.duration_weeks'] = full_df['group.duration_weeks'].astype('Int64')"
   ]
  },
  {
   "cell_type": "code",
   "execution_count": 17,
   "id": "d93f25b0",
   "metadata": {},
   "outputs": [],
   "source": [
    "assert len(full_df[full_df['group.duration_weeks']==0]['subject.longName'].unique()) == 0, \\\n",
    "       'There are abnormal group durations'"
   ]
  },
  {
   "cell_type": "code",
   "execution_count": 18,
   "id": "f48d0b95",
   "metadata": {
    "scrolled": true
   },
   "outputs": [],
   "source": [
    "assert len(full_df.columns) == 44, ''\n",
    "assert len(full_df.index) == 5730972, ''\n",
    "init_size = len(full_df.index)"
   ]
  },
  {
   "cell_type": "code",
   "execution_count": 19,
   "id": "63903fb9",
   "metadata": {},
   "outputs": [],
   "source": [
    "# Creating a copy of the full_df \n",
    "full_df_backup = full_df.copy()\n",
    "# full_df = full_df_backup.copy()\n",
    "# print(full_df.dtypes)"
   ]
  },
  {
   "cell_type": "code",
   "execution_count": null,
   "id": "084f6571",
   "metadata": {},
   "outputs": [],
   "source": [
    "# Initial dataset's size\n",
    "print(f'The dataset has {len(full_df.index)} rows and {len(full_df.columns)} columns.')"
   ]
  },
  {
   "cell_type": "markdown",
   "id": "75bc4c11",
   "metadata": {},
   "source": [
    "## 2. Reaching data tidiness \n",
    "\n",
    "**Fusing each attribute into one row using `student.id`, `subject.longName`, `subcompetence.desc`, `subcompetence.level_required` as grouping key**\n",
    "\n",
    "*student.id + subject.longName + subcompetence.desc + subcompetence.level_required*\n",
    "\n",
    "*Similar observations regarding evidence and activity attributes will be merged*\n",
    "\n",
    "**Steps**\n",
    "<ol>\n",
    "    <li>Remove all rows with activity status unpublished</li>\n",
    "    <li>Add an attribute with the subcompetence code and expand subcompetence.type (Transversal, Area, Disciplinary)</li>\n",
    "        <ol>\n",
    "            <li>Adding an attribute with subcompetence code</li>\n",
    "            <li>Adding the attribute with the equivalence between subcompetencies</li>\n",
    "            <li>Adding competence code to the full dataframe with level</li>\n",
    "        </ol>\n",
    "    <li>Add an attribute with the enrollment period, *i.e.* the first `period.major_id` for each student</li>\n",
    "    <li>Add an attribute with the periods since the enrollment period, *i.e.* the number of semesters the student has been enrolled at Tec</li>\n",
    "    <li>Add an attribute with the number of formation units enrolled in the semester</li>\n",
    "    <li>Add an attribute with the group size regarding the number of students</li>\n",
    "    <li>Add an attribute indicating is th program is avenue or specific</li>  \n",
    "    <li>Add an attribute with the number of `evidence.desc` dropping null values</li>\n",
    "        <ol>\n",
    "            <li>Check if this attribute has only values for `period == 2022FJ`</li>\n",
    "        </ol>\n",
    "    <li>Add an attribute with the number of `activities` dropping null values</li>\n",
    "        <ol>\n",
    "            <li>Check if this attribute has only values for `period == 2022FJ`</li>\n",
    "        </ol>\n",
    "    <li> Remove rows with the same values except for the column subject.type_desc</li>\n",
    "    <li> Drop 'program.school_id'</li>\n",
    "    <li> Drop 'group.id'</li>\n",
    "    <li> Drop 'competence.type'</li>\n",
    "    <li> Drop 'group_schedule.startDate'</li>\n",
    "    <li> Drop 'group_schedule.endDate'</li>\n",
    "    <li> Drop 'group_activity.tool'</li>\n",
    "    <li> Drop 'group.activities_count'</li>\n",
    "    <li> Drop 'group.assignments_count'</li>\n",
    "    <li> Drop 'group_activity.desc'</li>\n",
    "    <li> Drop 'group_activity.status'</li>\n",
    "    <li> Drop 'evidence.desc'</li>\n",
    "    <li> Drop 'group_activity.descStatus_count'</li>\n",
    "    <li> Drop 'subcompetence.desc'</li>\n",
    "    <li> Rename 'Tipo de competencia' as 'competence.type'</li>\n",
    "    <li> Rename `subcompetence.bool_level_assigned` as `subcompetence.level_assigned`</li>\n",
    "    <li> Rename `subcompetence.equivalent_desc` as `subcompetence.desc`\n",
    "    <li> Drop duplicated rows using student.id+term_period.id+subject.longName+subcompetence.equivalent_key+subcompetence.level_assigned</li>\n",
    "    <li>Add an attribute with the number of `subcompetence.level_assigned == Observed`</li>\n",
    "    <li>Add an attribute with the number of `subcompetence.level_assigned == Not_observed`</li>\n",
    "    <li> Drop rows with `subcompetence.level_assigned == NaN`</li>\n",
    "    <li> Transform `subcompetence.level_assigned` to a Bool attribute `== True if at-least once is Observed else False`</li>\n",
    "    <li> Drop `student.id` after merging all rows</li>\n",
    "</ol>"
   ]
  },
  {
   "cell_type": "markdown",
   "id": "2f185531",
   "metadata": {},
   "source": [
    "### 2.1 Removes all rows with activity status unpublished"
   ]
  },
  {
   "cell_type": "code",
   "execution_count": 21,
   "id": "4a6c1279",
   "metadata": {},
   "outputs": [],
   "source": [
    "full_df = full_df[full_df['group_activity.status'] != 'unpublished']"
   ]
  },
  {
   "cell_type": "code",
   "execution_count": null,
   "id": "7d6d40f1",
   "metadata": {},
   "outputs": [],
   "source": [
    "print(f'{init_size-len(full_df.index)} rows removed!\\nCurrent dataframe size is {len(full_df.index)}.')"
   ]
  },
  {
   "cell_type": "code",
   "execution_count": 23,
   "id": "9d68f390",
   "metadata": {},
   "outputs": [],
   "source": [
    "programs = full_df['program.major_id'].unique().tolist()"
   ]
  },
  {
   "cell_type": "markdown",
   "id": "240d162f",
   "metadata": {},
   "source": [
    "### 2.2 Add an attribute with the subcompetence code and expanding `subcompetence.type`."
   ]
  },
  {
   "cell_type": "markdown",
   "id": "495f9c35",
   "metadata": {},
   "source": [
    "#### List of equivalent subcompetencies\n",
    "\n",
    "**Considerations**\n",
    "> Transversal subcompetencies are the same with the same name for all programs.\n",
    ">\n",
    "> Disciplinary subocmpetencies are grouped in two categories (Area and Disciplinar).\n",
    ">\n",
    "> Area subcomeptencies are equivalent:\n",
    ">\n",
    ">> Subcomeptencies with the same number in the code are equivalent\n",
    ">>\n",
    ">> SIBQ###### <=> SICI##### <=> SICT##### <=> SIIT##### <=> SING#### (The lastone is the one to keep)\n",
    "\n",
    "\n",
    "\n",
    "| SIBQ#### | SICI#### | SICT#### | SIIT#### | SING#### |\n",
    "|----------|:--------:|---------:|---------:|---------:|\n",
    "| SIBQ0101 | SICI0101 | SICT0101 | SIIT0101 | SING0101 |\n",
    "| SIBQ0102 | SICI0102 | SICT0102 | SIIT0102 | SING0102 |\n",
    "| SIBQ0103 | SICI0103 | SICT0103 | SIIT0103 | SING0103 |\n",
    "\n",
    "**Steps**\n",
    "<ol>\n",
    "    <li> Load a dataframe with the equivalence between the $subcompetence.desc$ in the dataframe and the names of the subcomeptencies in SAMP.</li>\n",
    "    <li> Load a dataframe with the names of the subcoemptencies in SAMP and their Code, type, and Formation units.</li>\n",
    "    <li> Merge both dataframes into one with the name of the subcompetence in the full dataframe and their code, and type in SAMP.</li>\n",
    "    <li> Merge the obtained dataframe with the full_dataframe $how='inner'$. As a result, subcompetencies of other schools will be removed.</li>\n",
    "    <li> Add an attribute with the subcompetence code (Equivalent subcompetencies must have the same code).</li>\n",
    "<ol> "
   ]
  },
  {
   "cell_type": "markdown",
   "id": "8c560185",
   "metadata": {},
   "source": [
    "#### 2.2.1 Adding an attribute with subcompetence code. "
   ]
  },
  {
   "cell_type": "code",
   "execution_count": 24,
   "id": "fce4c83d",
   "metadata": {},
   "outputs": [],
   "source": [
    "# loading dataframe with subcompetencies and codes.\n",
    "subcompetence_code = pd.read_excel(f'{path_files}/Subcompetencies-All.xlsx')\n",
    "subcompetence_code.drop(columns=['Activo', 'UF a Desarrollar', 'Escuela', \n",
    "                                 'Departamento que administra la materia',\n",
    "                                 'Area compentencia'], inplace=True)\n",
    "# subcompetence_code.head()"
   ]
  },
  {
   "cell_type": "code",
   "execution_count": 25,
   "id": "390e5339",
   "metadata": {},
   "outputs": [],
   "source": [
    "subcompetence_code.rename(columns={'Nombre en Inglés':'Name in SAMP'}, inplace=True)"
   ]
  },
  {
   "cell_type": "code",
   "execution_count": 26,
   "id": "018c172d",
   "metadata": {},
   "outputs": [],
   "source": [
    "# Loading file with the subcomeptence names correspondece\n",
    "subcompetence_name_correspondence = pd.read_excel(f'{path_files}/SimilarityBetweenSubcompetenceNames.xlsx')"
   ]
  },
  {
   "cell_type": "code",
   "execution_count": 27,
   "id": "84c0755b",
   "metadata": {},
   "outputs": [],
   "source": [
    "subcompetence_name_correspondence = pd.merge(left=subcompetence_name_correspondence,\n",
    "                                             right=subcompetence_code,\n",
    "                                             on=['Name in SAMP'],\n",
    "                                             how='inner')"
   ]
  },
  {
   "cell_type": "code",
   "execution_count": 28,
   "id": "21260634",
   "metadata": {},
   "outputs": [],
   "source": [
    "# Adding an attribute with the level_required for merging with the full dataframe\n",
    "subcompetence_name_correspondence['subcompetence.level_required'] = \\\n",
    "    subcompetence_name_correspondence['Clave'].map(lambda x: x[-1])"
   ]
  },
  {
   "cell_type": "code",
   "execution_count": 29,
   "id": "0b8fb8dd",
   "metadata": {},
   "outputs": [],
   "source": [
    "# Raneming to merge with full_df\n",
    "subcompetence_name_correspondence.rename(columns={'Name in Dataset':'subcompetence.desc'}, \n",
    "                                        inplace=True)"
   ]
  },
  {
   "cell_type": "code",
   "execution_count": 30,
   "id": "f9daf4c0",
   "metadata": {},
   "outputs": [],
   "source": [
    "# Storing names for subcompetencies with key 'SING'\n",
    "eng_subcomp_names = \\\n",
    "    subcompetence_name_correspondence[(~subcompetence_name_correspondence['Clave'].str.contains('SIBQ'))\n",
    "                                       & (~subcompetence_name_correspondence['Clave'].str.contains('SICI'))\n",
    "                                       & (~subcompetence_name_correspondence['Clave'].str.contains('SICT'))\n",
    "                                       & (~subcompetence_name_correspondence['Clave'].str.contains('SIIT'))][['Name in SAMP','Clave']]"
   ]
  },
  {
   "cell_type": "markdown",
   "id": "74f8e392",
   "metadata": {},
   "source": [
    "#### 2.2.2 Adding the attribute with the equivalence between subcompetencies."
   ]
  },
  {
   "cell_type": "code",
   "execution_count": 31,
   "id": "c2ca45b2",
   "metadata": {},
   "outputs": [],
   "source": [
    "def map_subcompetence_equivalence(item1):\n",
    "    result = item1\n",
    "    result = result.replace('SIBQ', 'SING')\n",
    "    result = result.replace('SICI', 'SING')\n",
    "    result = result.replace('SICT', 'SING')\n",
    "    result = result.replace('SIIT', 'SING')\n",
    "    return result"
   ]
  },
  {
   "cell_type": "code",
   "execution_count": 32,
   "id": "7532abe7",
   "metadata": {},
   "outputs": [],
   "source": [
    "subcompetence_name_correspondence['subcompetence.equivalent_key'] = \\\n",
    "    subcompetence_name_correspondence['Clave'].map(map_subcompetence_equivalence)"
   ]
  },
  {
   "cell_type": "code",
   "execution_count": 33,
   "id": "880a371e",
   "metadata": {},
   "outputs": [],
   "source": [
    "assert subcompetence_name_correspondence[subcompetence_name_correspondence['Clave'] == \\\n",
    "                                         'SIBQ0102A']['subcompetence.equivalent_key'].unique() == \\\n",
    "    ['SING0102A'], 'The equivalence between competencies is wrong'\n",
    "assert subcompetence_name_correspondence[subcompetence_name_correspondence['Clave'] == \\\n",
    "                                         'SICI0102A']['subcompetence.equivalent_key'].unique() == \\\n",
    "    ['SING0102A'], 'The equivalence between competencies is wrong'"
   ]
  },
  {
   "cell_type": "code",
   "execution_count": 34,
   "id": "c28ac23c",
   "metadata": {},
   "outputs": [],
   "source": [
    "# Keeping only the subcompetence.desc for the SING subcompetence\n",
    "subc_desc_before = len(subcompetence_name_correspondence['subcompetence.desc'].unique())\n",
    "subcompetence_name_correspondence = pd.merge(left=subcompetence_name_correspondence,\n",
    "                                             right=eng_subcomp_names,\n",
    "                                             left_on=['subcompetence.equivalent_key'],\n",
    "                                             right_on=['Clave'],\n",
    "                                             how='left')"
   ]
  },
  {
   "cell_type": "code",
   "execution_count": 35,
   "id": "29846a1d",
   "metadata": {},
   "outputs": [],
   "source": [
    "subcompetence_name_correspondence.drop(columns=['Name in SAMP_x', 'Clave_x', 'Clave_y'], inplace=True)\n",
    "subcompetence_name_correspondence.rename(columns={'Name in SAMP_y':'subcompetence.equivalent_desc'}, inplace=True)"
   ]
  },
  {
   "cell_type": "code",
   "execution_count": 36,
   "id": "e8e62177",
   "metadata": {},
   "outputs": [],
   "source": [
    "# Droping rows for equivalent subcomeptencies\n",
    "subcompetence_name_correspondence.drop_duplicates(subset=['subcompetence.desc',\n",
    "                                                          'Tipo de competencia',\n",
    "                                                          'subcompetence.level_required',\n",
    "                                                          'subcompetence.equivalent_key'],\n",
    "                                                  keep='first',\n",
    "                                                  inplace=True)"
   ]
  },
  {
   "cell_type": "code",
   "execution_count": null,
   "id": "f782d681",
   "metadata": {},
   "outputs": [],
   "source": [
    "print(f'Subcompetence descriptions before renaming equivalent ones {subc_desc_before}')\n",
    "subc_desc_after = len(subcompetence_name_correspondence['subcompetence.equivalent_desc'].unique())\n",
    "print(f'Subcompetence equivalent descriptions {subc_desc_after}')"
   ]
  },
  {
   "cell_type": "markdown",
   "id": "63b33aa7",
   "metadata": {},
   "source": [
    "#### 2.2.3 Adding competence code to the full dataframe with level\n",
    "**Steps**\n",
    "<ol>\n",
    "    <li> Merge the full dataframe with the dataframe with the subcompetencies code.</li>\n",
    "    <li> Drop rows without competence code because they correspond to subcompetencies belonging to other schools.</li>\n",
    "</ol>"
   ]
  },
  {
   "cell_type": "code",
   "execution_count": 38,
   "id": "7e73a092",
   "metadata": {},
   "outputs": [],
   "source": [
    "size_before = len(full_df.index)"
   ]
  },
  {
   "cell_type": "code",
   "execution_count": 39,
   "id": "f678fb6f",
   "metadata": {},
   "outputs": [],
   "source": [
    "# Adding subcompetence code and new type (Disciplinar, Area, and General Education)\n",
    "# Keeping only rows with subcompetencies from EIC school (how='inner')\n",
    "full_df = pd.merge(left=full_df,\n",
    "                   right=subcompetence_name_correspondence[['subcompetence.desc',\n",
    "                                                            'Tipo de competencia',\n",
    "                                                            'subcompetence.level_required',\n",
    "                                                            'subcompetence.equivalent_key',\n",
    "                                                            'subcompetence.equivalent_desc']],\n",
    "                   on=['subcompetence.desc', 'subcompetence.level_required'],\n",
    "                   how='inner')"
   ]
  },
  {
   "cell_type": "code",
   "execution_count": null,
   "id": "2437dd9f",
   "metadata": {
    "scrolled": true
   },
   "outputs": [],
   "source": [
    "print(f'Size of the full dataframe before droping subcompetencies of other schools: {size_before}\\n'+\n",
    "      f'Size of the full dataframe after droping subcompetencies of other schools: {len(full_df.index)}\\n'+\n",
    "      f'Rows removed: {size_before-len(full_df.index)}, {((size_before-len(full_df.index))/size_before)*100}%')"
   ]
  },
  {
   "cell_type": "code",
   "execution_count": 41,
   "id": "dd424d84",
   "metadata": {},
   "outputs": [],
   "source": [
    "assert not full_df['subcompetence.desc'].hasnans, 'Error! Some subcomeptencies were missed after merging equivalent ones'"
   ]
  },
  {
   "cell_type": "code",
   "execution_count": 42,
   "id": "d9f28184",
   "metadata": {},
   "outputs": [],
   "source": [
    "assert len(full_df[full_df['subcompetence.desc'] == \\\n",
    "            'Biomedical Technology Management, Evaluation and Transfer Processes']['student.id'].unique())\\\n",
    "        == 475, 'Some subcomeptencies weren\\'t added'"
   ]
  },
  {
   "cell_type": "markdown",
   "id": "65bdec1d",
   "metadata": {},
   "source": [
    "**Remarks**\n",
    "> Some equivalent subcompetencies have different names.\n",
    "\n",
    "| CODE      | Name in SAMP                |\n",
    "| --------: | ---------------------------:|\n",
    "| SING0202A\t| Interpretation of variables |\n",
    "| SIIT0202A\t| Variable interpretation     |\n",
    "| SICI0202A\t| Variable interpretation     |\n",
    "| SIBQ0202A\t| Interpretation of variables |\n",
    "| SICT0202A\t| Variable interpretation     |\n",
    "\n",
    "> So, we keep only the name for the subcomeptence SING.\n",
    ">\n",
    "> Rows corresponding to sub competencies of schools  different to EIC were discarded."
   ]
  },
  {
   "cell_type": "markdown",
   "id": "c65e4826",
   "metadata": {},
   "source": [
    "### 2.3 & 2.4 Adding an attribute with the enrollment period for each student and the semesters since enrollment.\n",
    "\n",
    "> `enrollment_period.id` --> Period in which the student enrolled for the fist time at Tec.\n",
    "> `semesters_from.enrollment` --> Number of periods from the enrollment to the last semester.\n",
    "\n",
    "**Remarks**\n",
    "> Each row has the period for the current observation, but the first enrollment period isn't in the data. So, we need to add it.\n",
    ">\n",
    "> Attribute `semester.desc` has the minimum semester for which the student has a subject enrolled. Therefore, there are many cases for which the student is never enrolled in certain semesters. Because he passes all subject in a period with at least one subject of the inferior semester.\n",
    ">\n",
    "> This new attributes give such information.\n",
    "\n",
    "**Proposals**\n",
    "> Create a new attribute with the seniority of the student regarding the number of periods since the first enrollment at Tec\n",
    "> Create a new attribute for which the semester is determined by the semester that maximize the number of subjects enrolled."
   ]
  },
  {
   "cell_type": "markdown",
   "id": "060fa4b4",
   "metadata": {},
   "source": [
    "1. 2019AD\n",
    "2. 2020FJ\n",
    "3. 2020AD\n",
    "4. 2021FJ\n",
    "5. 2021AD\n",
    "6. 2022FJ"
   ]
  },
  {
   "cell_type": "code",
   "execution_count": 43,
   "id": "c846b56c",
   "metadata": {},
   "outputs": [],
   "source": [
    "# Order for the semesters\n",
    "period_sorted_list = ['2019AD', '2020FJ', '2020AD', '2021FJ', '2021AD', '2022FJ']"
   ]
  },
  {
   "cell_type": "code",
   "execution_count": 44,
   "id": "f437348b",
   "metadata": {},
   "outputs": [],
   "source": [
    "students_list = full_df['student.id'].unique()"
   ]
  },
  {
   "cell_type": "code",
   "execution_count": 45,
   "id": "dbb883e7",
   "metadata": {},
   "outputs": [],
   "source": [
    "# Obtaining the enrollment semester and the number of semesters since the student enrollment.\n",
    "# Create a DataFrame with unique combinations of student and term_period\n",
    "student_term_df = full_df[['student.id', 'term_period.id']].drop_duplicates()"
   ]
  },
  {
   "cell_type": "code",
   "execution_count": null,
   "id": "3f20a5da",
   "metadata": {
    "scrolled": true
   },
   "outputs": [],
   "source": [
    "# Create a new dataframe with the list of sorted periods\n",
    "period_df = pd.DataFrame({'term_period.id': period_sorted_list})\n",
    "period_df.reset_index(inplace=True)\n",
    "period_df"
   ]
  },
  {
   "cell_type": "code",
   "execution_count": 47,
   "id": "ccfda099",
   "metadata": {},
   "outputs": [],
   "source": [
    "# Merge with a DataFrame containing the sorted period ids\n",
    "student_term_period_df = pd.merge(left=student_term_df, right=period_df, on='term_period.id', how='left')"
   ]
  },
  {
   "cell_type": "code",
   "execution_count": 48,
   "id": "e1ca7b99",
   "metadata": {},
   "outputs": [],
   "source": [
    "# Group by student and find the minimum period id that matches the sorted period ids\n",
    "min_periods_df = student_term_period_df.groupby(by='student.id', as_index=False)['index'].min()\n",
    "\n",
    "min_periods_df['enrollment_period.id'] = min_periods_df['index'].apply(lambda x: period_sorted_list[x])\n",
    "min_periods_df.drop(columns=['index'], inplace=True)"
   ]
  },
  {
   "cell_type": "code",
   "execution_count": null,
   "id": "dc09e472",
   "metadata": {},
   "outputs": [],
   "source": [
    "# Merge back to the original DataFrame and calculate semesters_from.enrollment\n",
    "full_df = pd.merge(left=full_df, right=min_periods_df, on='student.id', how='left')\n",
    "full_df['semesters_from.enrollment'] = full_df.apply(\n",
    "    lambda x: period_sorted_list.index(x['term_period.id']) - period_sorted_list.index(x['enrollment_period.id']) + 1,\n",
    "    axis=1\n",
    ")\n",
    "print('100% processed!')"
   ]
  },
  {
   "cell_type": "code",
   "execution_count": 50,
   "id": "9c72ac87",
   "metadata": {
    "scrolled": true
   },
   "outputs": [],
   "source": [
    "# Checking the periods from enrollment using student.id == 309091\n",
    "temp = student_term_period_df[student_term_period_df['student.id']==309091]['index'].tolist()\n",
    "temp.sort()\n",
    "assert temp == [3,4,5],'Error! Index lists of periods mismatch.'"
   ]
  },
  {
   "cell_type": "code",
   "execution_count": 51,
   "id": "d46094a1",
   "metadata": {},
   "outputs": [],
   "source": [
    "# Checking the column added. Column 47 is the last column added 'semesters_from.enrollment'\n",
    "assert full_df.columns.__contains__('semesters_from.enrollment'), 'Error! Column \\'semesters_from.enrollment\\' wasn\\'t added.'\n",
    "temp = full_df[full_df['student.id'] == 51742]['semesters_from.enrollment'].unique().tolist()\n",
    "temp.sort()\n",
    "assert temp == [1,2], 'Error! Semesters from enrollment differs.'\n",
    "temp = full_df[full_df['student.id'] == 309091]['semesters_from.enrollment'].unique().tolist()\n",
    "temp.sort()\n",
    "assert temp == [1,2,3], 'Error! Semesters from enrollment differs.'"
   ]
  },
  {
   "cell_type": "markdown",
   "id": "8e455796",
   "metadata": {},
   "source": [
    "##### Visualization\n",
    "\n",
    "##### Tec enrollment period\n",
    "**Remarks**\n",
    "> Most of the students enroll on August-December periods.\n",
    ">\n",
    "> The enrollments by years in the data decrease.\n",
    ">\n",
    "> > 2021AD has almost 1000 students enrolled less than 2019AD!\n",
    "\n",
    "**TODO**\n",
    "> Check students enrolled in periods FJ because they might be non typical students. "
   ]
  },
  {
   "cell_type": "code",
   "execution_count": null,
   "id": "b29b9565",
   "metadata": {},
   "outputs": [],
   "source": [
    "x = period_sorted_list\n",
    "y = [len(full_df[full_df['enrollment_period.id'] == p]['student.id'].unique()) for p in x]\n",
    "fig = go.Figure(data=[go.Bar(x = x, y = y, text = y, textposition='outside')])\n",
    "fig.update_layout(title_text='Tec enrollments in the EIC by semesters')\n",
    "fig.show()"
   ]
  },
  {
   "cell_type": "markdown",
   "id": "b7565a8d",
   "metadata": {},
   "source": [
    "##### Semesters since enrollment\n",
    "\n",
    "**Remarks**\n",
    "> The number of observations by semester since enrollment decreased as expected."
   ]
  },
  {
   "cell_type": "code",
   "execution_count": null,
   "id": "4455ea35",
   "metadata": {},
   "outputs": [],
   "source": [
    "x = list(range(1, len(period_sorted_list)+1))\n",
    "y = [len(full_df[full_df['semesters_from.enrollment'] == p]['student.id'].unique()) for p in x]\n",
    "fig = go.Figure(data=[go.Bar(x = x, y = y, text=y, textposition='inside')])\n",
    "#fig.add_trace(go.Scatter(x=x, y=y, mode='lines'))\n",
    "fig.update_layout(title_text='Students\\' evaluations by semesters_since_enrollment in the EIC')\n",
    "fig.show()\n",
    "print(f'The sum of the students is {sum(y)}')"
   ]
  },
  {
   "cell_type": "markdown",
   "id": "b246345d",
   "metadata": {},
   "source": [
    "##### Barplot with the amount of evaluations by semesters from enrollment"
   ]
  },
  {
   "cell_type": "code",
   "execution_count": null,
   "id": "936ed8f6",
   "metadata": {},
   "outputs": [],
   "source": [
    "x = list(range(1, len(period_sorted_list)+1))\n",
    "y = [len(full_df[full_df['semesters_from.enrollment'] == p].index.unique()) for p in x]\n",
    "fig = go.Figure(data=[go.Bar(x = x, y = y, text=y, textposition='inside')])\n",
    "#fig.add_trace(go.Scatter(x=x, y=y, mode='lines'))\n",
    "fig.update_layout(title_text='Amount of evaluations by semesters_since_enrollment in the EIC')\n",
    "fig.show()\n",
    "print(f'The sum of the evaluations is {sum(y)}')\n",
    "assert sum(y) == len(full_df.index), 'Error! The sum of evaluations is different to the full_df size'"
   ]
  },
  {
   "cell_type": "markdown",
   "id": "69b5abc5",
   "metadata": {},
   "source": [
    "##### Students by periods at Tec\n",
    "\n",
    "**Remarks**\n",
    ">\n",
    ">\n",
    ">"
   ]
  },
  {
   "cell_type": "code",
   "execution_count": 59,
   "id": "c15f4d86",
   "metadata": {
    "scrolled": false
   },
   "outputs": [],
   "source": [
    "#students_by_periods_atTec_df = full_df.groupby(['semesters_from.enrollment', 'program.major_id'], \n",
    "#                                               as_index=False).agg({'student.id':'nunique'})\n",
    "#students_by_periods_atTec_df.rename(columns={'student.id':'n_students'}, inplace=True)\n",
    "#for item in students_by_periods_atTec_df['semesters_from.enrollment'].unique():\n",
    "#    colors = ['red' if (x in avenue_programs) else 'blue' \n",
    "#              for x in students_by_periods_atTec_df[students_by_periods_atTec_df['semesters_from.enrollment'] == item]['program.major_id'].unique()]\n",
    "#    fig = go.Figure(go.Bar(x=students_by_periods_atTec_df[students_by_periods_atTec_df['semesters_from.enrollment'] == item]['program.major_id'], \n",
    "#                           y=students_by_periods_atTec_df[students_by_periods_atTec_df['semesters_from.enrollment'] == item]['n_students'],\n",
    "#                           text=students_by_periods_atTec_df[students_by_periods_atTec_df['semesters_from.enrollment'] == item]['n_students'], \n",
    "#                           textposition='inside',\n",
    "#                           marker_color=colors))\n",
    "#    total = sum(students_by_periods_atTec_df[students_by_periods_atTec_df['semesters_from.enrollment'] == item]['n_students'])\n",
    "#    fig.update_layout(title_text=f'Students by program with {item} semesters at Tec, total: {total}')\n",
    "#    fig.show()"
   ]
  },
  {
   "cell_type": "markdown",
   "id": "90cf53cf",
   "metadata": {},
   "source": [
    "### 2.5 Add an attribute with the number of formation units enrolled in the semester"
   ]
  },
  {
   "cell_type": "code",
   "execution_count": 54,
   "id": "8df5ac55",
   "metadata": {},
   "outputs": [],
   "source": [
    "temp_df = full_df.groupby(['student.id', 'term_period.id'], \n",
    "                          as_index=False).agg({'subject.longName':'nunique'})\n",
    "temp_df.rename(columns={'subject.longName':'student.suject_semester_enrolled'}, inplace=True)"
   ]
  },
  {
   "cell_type": "code",
   "execution_count": 55,
   "id": "15dfbbff",
   "metadata": {},
   "outputs": [],
   "source": [
    "size_before = len(full_df.index)\n",
    "full_df = pd.merge(left=full_df, right=temp_df, on=['student.id', 'term_period.id'], how='left')"
   ]
  },
  {
   "cell_type": "code",
   "execution_count": 56,
   "id": "cfa8cd70",
   "metadata": {},
   "outputs": [],
   "source": [
    "assert size_before==len(full_df.index), 'Sizes mistmatch after merge'\n",
    "assert full_df.columns.__contains__('student.suject_semester_enrolled'), 'Column wasn\\'t added'"
   ]
  },
  {
   "cell_type": "code",
   "execution_count": null,
   "id": "1933aef4",
   "metadata": {},
   "outputs": [],
   "source": [
    "px.box(full_df['student.suject_semester_enrolled'])"
   ]
  },
  {
   "cell_type": "markdown",
   "id": "bd181d85",
   "metadata": {},
   "source": [
    "### 2.6 Add an attribute with the group size regarding the number of students\n",
    "\n",
    "**Remarks** \n",
    "> The same group.id appears more than once in the data.\n",
    "> \n",
    "> `group.id == '3070'` is in perids '2020AD' and '2021AD'.\n",
    ">\n",
    "> So, we add the attribute group.size for each group.id and term_period and remove group.id."
   ]
  },
  {
   "cell_type": "code",
   "execution_count": 61,
   "id": "0608123c",
   "metadata": {},
   "outputs": [],
   "source": [
    "temp_df = full_df.groupby(['term_period.id', 'group.id'], \n",
    "                          as_index=False).agg({'student.id':'nunique'})\n",
    "temp_df.rename(columns={'student.id':'group.size'}, inplace=True)"
   ]
  },
  {
   "cell_type": "code",
   "execution_count": null,
   "id": "b4849ed7",
   "metadata": {},
   "outputs": [],
   "source": [
    "size_before = len(full_df.index)\n",
    "full_df = pd.merge(left=full_df, right=temp_df, on=['term_period.id', 'group.id'], how='left')\n",
    "print(f'Size before merge {size_before}')\n",
    "print(f'Size after merge {len(full_df.index)}')"
   ]
  },
  {
   "cell_type": "code",
   "execution_count": null,
   "id": "4921be49",
   "metadata": {},
   "outputs": [],
   "source": [
    "px.box(full_df['group.size'])"
   ]
  },
  {
   "cell_type": "code",
   "execution_count": null,
   "id": "fd9e130a",
   "metadata": {},
   "outputs": [],
   "source": [
    "#TODO Check this assert fail\n",
    "\n",
    "assert size_before==len(full_df.index), 'Sizes mistmatch after merge'\n",
    "assert full_df.columns.__contains__('group.size'), 'Column wasn\\'t added'\n",
    "assert full_df[(full_df['group.id']==3070) \\\n",
    "               & (full_df['term_period.id']=='2020AD')]['group.size'].unique() == [60], \\\n",
    "                    'The group size is incorrect'\n",
    "assert full_df[(full_df['group.id']==41938) \\\n",
    "               & (full_df['term_period.id'] == '2020FJ')]['group.size'].unique() == [23], \\\n",
    "                    'The group size is incorrect'"
   ]
  },
  {
   "cell_type": "markdown",
   "id": "ca00a118",
   "metadata": {},
   "source": [
    "### 2.7 Add an attribute indicating whether the program is avenue or specific"
   ]
  },
  {
   "cell_type": "code",
   "execution_count": 65,
   "id": "e8adfa1a",
   "metadata": {},
   "outputs": [],
   "source": [
    "size_before = len(full_df.index)\n",
    "full_df['program.isAvenue'] = full_df['program.major_id'].isin(avenue_programs)"
   ]
  },
  {
   "cell_type": "code",
   "execution_count": 66,
   "id": "2550c503",
   "metadata": {},
   "outputs": [],
   "source": [
    "assert size_before==len(full_df.index), 'Sizes mistmatch after merge'\n",
    "assert full_df.columns.__contains__('program.isAvenue'), 'Column wasn\\'t added'"
   ]
  },
  {
   "cell_type": "markdown",
   "id": "deaf7e78",
   "metadata": {},
   "source": [
    "### 2.8 Add an attribute with the number of `evidence.desc` dropping null values\n",
    "##### Check if this attribute has only values for `period == 2022FJ`\n",
    "\n",
    "**Remarks**\n",
    "> `full_df[full_df['term_period.id'] != '2022FJ']['evidence.desc'].unique()` returns `array([nan], dtype=object)`. So, there is no information about evidence out of 2022.\n",
    ">\n",
    "> So, it is worthless to keep it for the current analysis.\n",
    "> \n",
    "> Additionally, attribute `evidence.desc` has too much variation for '2022FJ'. \n",
    "> \n",
    "> The five top labels (more common) are:\n",
    "\n",
    "| Tag                        | Percent  |\n",
    "| ---------------------------| ---------|\n",
    "| Argumentative exam         | 1.548323 |\n",
    "| Evidence 1                 | 1.334045 |\n",
    "| Evidence 2                 | 1.058198 |\n",
    "| Written argumentative exam | 0.637830 |\n",
    "| Oral argumentative exam    | 0.396104 |\n"
   ]
  },
  {
   "cell_type": "code",
   "execution_count": null,
   "id": "78cd4792",
   "metadata": {},
   "outputs": [],
   "source": [
    "#full_df[full_df['term_period.id'] != '2022FJ']['evidence.desc'].unique()"
   ]
  },
  {
   "cell_type": "markdown",
   "id": "8325d0db",
   "metadata": {},
   "source": [
    "### 2.9 Add an attribute with the number of `activities` dropping null values\n",
    "##### Check if this attribute has only values for `period == 2022FJ`\n",
    "\n",
    "**Remarks**\n",
    "\n",
    "> `full_df[full_df['term_period.id'] != '2022FJ']['group.activities_count'].unique()` returns `<IntegerArray>[<NA>]Length: 1, dtype: Int64`. So, there is no information about evidence out of 2022.\n",
    ">\n",
    "> Hence, it is worthless to keep it for the current analysis.\n",
    ">\n",
    "> All attributes related to group_activities, group_assesments, and evidences have null values for all periods except '2022FJ'. So, they are worthless for the current analysis."
   ]
  },
  {
   "cell_type": "code",
   "execution_count": null,
   "id": "0ffded94",
   "metadata": {},
   "outputs": [],
   "source": [
    "#full_df[full_df['term_period.id'] != '2022FJ']['group_activity.descStatus_count'].unique()"
   ]
  },
  {
   "cell_type": "markdown",
   "id": "0930cf43",
   "metadata": {},
   "source": [
    "### 2.10 Removing rows with the same values except for the column subject.type_desc. \n",
    "\n",
    "**Note** \n",
    "> There are some rows with the same values except for the column subject.type_desc. \n",
    ">\n",
    "> Repeated columns have values Theoretical and Project.\n",
    ">\n",
    "> We must remove one of them, but first we need to decide which one we must keep."
   ]
  },
  {
   "cell_type": "code",
   "execution_count": null,
   "id": "1b3e8ee8",
   "metadata": {
    "scrolled": true
   },
   "outputs": [],
   "source": [
    "#temp_df = full_df.groupby(['student.id', 'term_period.id', 'subject.longName']).agg({'subject.type_desc':'nunique'})\n",
    "#temp_df[temp_df['subject.type_desc'] > 1]"
   ]
  },
  {
   "cell_type": "code",
   "execution_count": null,
   "id": "ad8351d5",
   "metadata": {},
   "outputs": [],
   "source": [
    "#pd.set_option('display.max_column', None)\n",
    "#full_df[(full_df['student.id'] == 79) \n",
    "#       & (full_df['term_period.id'] == '2022FJ')\n",
    "#       & (full_df['subject.longName'] == 'Computational Modeling of Electrical Systems')]"
   ]
  },
  {
   "cell_type": "markdown",
   "id": "afdb1b6d",
   "metadata": {},
   "source": [
    "### 2.11 to 2.23 Drop columns of the transformed attributes.\n",
    "\n",
    "**Columns to drop**\n",
    "<ul>\n",
    "    <li>'program.school_id'</li>\n",
    "    <li>'group.id'</li>\n",
    "    <li>'competence.type'</li>\n",
    "    <li>'group_schedule.startDate'</li>\n",
    "    <li>'group_schedule.endDate'</li>\n",
    "    <li>'group_activity.tool'</li>\n",
    "    <li>'group.activities_count'</li>\n",
    "    <li>'group.assignments_count'</li>\n",
    "    <li>'group_activity.desc'</li>\n",
    "    <li>'group_activity.status'</li>\n",
    "    <li>'evidence.desc'</li>\n",
    "    <li>'group_activity.descStatus_count'</li>\n",
    "    <li>'subcompetence.desc'</li>\n",
    "</ul>"
   ]
  },
  {
   "cell_type": "code",
   "execution_count": null,
   "id": "ca051430",
   "metadata": {},
   "outputs": [],
   "source": [
    "size_before = len(full_df.index)\n",
    "full_df.drop(columns=['program.school_id', 'group.id', 'competence.type', \n",
    "                      'group_schedule.startDate', \n",
    "                      'group_schedule.endDate','group_activity.tool','group.activities_count',\n",
    "                      'group.assignments_count','group_activity.desc','group_activity.status',\n",
    "                      'evidence.desc','group_activity.descStatus_count', 'subcompetence.desc'], \n",
    "             inplace=True)\n",
    "print(f'Rows before dropping columns {size_before}')\n",
    "print(f'Rows after dropping columns {len(full_df.index)}')"
   ]
  },
  {
   "cell_type": "markdown",
   "id": "b86fe2e6",
   "metadata": {},
   "source": [
    "### 2.24 to 2.26 Rename columns and values.\n",
    "\n",
    "**Columns to rename**\n",
    "<ul>\n",
    "    <li>'Tipo de competencia' $\\rightarrow$ 'competence.type'</li> \n",
    "    <li>'subcompetence.bool_level_assigned' $\\rightarrow$ 'subcompetence.level_assigned'</li>\n",
    "    <li>'subcompetence.equivalent_desc' $\\rightarrow$ 'subcompetence.desc'</li>\n",
    "</ul>\n",
    "\n",
    "**Note:** Some subcompetencies classfied as Diciplinary are classified as Area now."
   ]
  },
  {
   "cell_type": "code",
   "execution_count": 68,
   "id": "3fcb249b",
   "metadata": {},
   "outputs": [],
   "source": [
    "full_df.rename(columns={'Tipo de competencia':'competence.type', \n",
    "                        'subcompetence.equivalent_desc':'subcompetence.desc'},\n",
    "               inplace=True)"
   ]
  },
  {
   "cell_type": "code",
   "execution_count": 69,
   "id": "5ab11685",
   "metadata": {},
   "outputs": [],
   "source": [
    "# Translate values for attribute competence.type\n",
    "def translate_competence_type(item):\n",
    "    if item == 'Área': return 'Area'\n",
    "    if item == 'Educación General': return 'General_education'\n",
    "    if item == 'Disciplinar': return 'Disciplinary'\n",
    "    return 'Unknown'"
   ]
  },
  {
   "cell_type": "code",
   "execution_count": 70,
   "id": "bae81f85",
   "metadata": {},
   "outputs": [],
   "source": [
    "full_df['competence.type'] = full_df['competence.type'].map(translate_competence_type)"
   ]
  },
  {
   "cell_type": "code",
   "execution_count": 71,
   "id": "d51679ca",
   "metadata": {},
   "outputs": [],
   "source": [
    "assert len(full_df[full_df['competence.type'] == 'Área'].index) == 0, 'Competence types weren\\'t changed'"
   ]
  },
  {
   "cell_type": "markdown",
   "id": "fe47c146",
   "metadata": {},
   "source": [
    "### 2.27 Drop duplicated rows using \n",
    "student.id+term_period.id+subject.longName+subcompetence.desc+subcompetence.level_required+subcompetence.level_assigned"
   ]
  },
  {
   "cell_type": "markdown",
   "id": "2d41f718",
   "metadata": {},
   "source": [
    "##### Checking if there is any repeated observation with different subcompetence.level_assigned\n",
    "**Remarks**\n",
    "> Yes, there are 47 cases where the same subcompetence at the same level_required was observed and not observed for the same student in the same subject and semester.\n",
    ">\n",
    "> We want to keep such differences, so, we must drop duplicates but including the level_assigned."
   ]
  },
  {
   "cell_type": "code",
   "execution_count": null,
   "id": "0821e612",
   "metadata": {},
   "outputs": [],
   "source": [
    "size_before = len(full_df.index)\n",
    "full_df.drop_duplicates(subset=['student.id','term_period.id','subject.longName',\n",
    "                                'subcompetence.desc', 'subcompetence.level_required',\n",
    "                                'subcompetence.level_assigned'],\n",
    "                       keep='first',\n",
    "                       inplace=True)\n",
    "print(f'{size_before - len(full_df.index)} rows removed after dropping duplicates.')\n",
    "print(f'Current dataframe size is {len(full_df.index)} rows and {len(full_df.columns)} columns.')"
   ]
  },
  {
   "cell_type": "markdown",
   "id": "e6eaf40c",
   "metadata": {},
   "source": [
    "### 2.28  & 2.29 Add attributes with:\n",
    "\n",
    "1. The number of `subcompetence.level_assigned == Observed` \n",
    "2. The number of `subcompetence.level_assigned == Not_observed`\n",
    "\n",
    "* How many times the subcompetence has been evaluated as Observed in previous semesters and counting the current evaluation if it is observed\n",
    "* How many times the subcompetence has been evaluated as Not observed in previous semesters and counting the current evaluation if it is Not observed\n",
    "* If the current evaluation is Observed the column notobserved_count keep the same value as the previous semester\n",
    "* If the current evaluation is Not observed the column observed_count keep the same value as the previous semester\n",
    "* If a subcompetency was assessed as Observed or Not Observed several times in the previous semester, the total number of assessments is counted in the following semester. That is, if it was assessed as Observed for 3 different subjects in semester 1:\n",
    "    * In that semester 1, it will have a value of 1 for all three because only the current assessment (itself) would be counted.\n",
    "    * In the following semester (2), it will have a value of 4 if the assessment in semester 2 is Observed or 3 if the assessment in semester 2 is Not Observed.\n",
    "    "
   ]
  },
  {
   "cell_type": "code",
   "execution_count": 203,
   "id": "2fc7014a",
   "metadata": {},
   "outputs": [],
   "source": [
    "# full_df_backup = full_df.copy()\n",
    "full_df = full_df_backup.copy()"
   ]
  },
  {
   "cell_type": "code",
   "execution_count": 204,
   "id": "9c1596d8",
   "metadata": {},
   "outputs": [],
   "source": [
    "def add_observed_notobserved_counts(df):\n",
    "    # Ensure the dataframe is sorted by 'semesters_from.enrollment'\n",
    "    df.sort_values('semesters_from.enrollment', inplace=True)\n",
    "\n",
    "    # Compute cumulative observed and not observed counts\n",
    "    df['temp_observed_count'] = (df['subcompetence.level_assigned'] == 'Observed').groupby(\n",
    "        [df['student.id'], df['subcompetence.desc']]\n",
    "    ).cumsum()\n",
    "\n",
    "    df['temp_notobserved_count'] = (df['subcompetence.level_assigned'] == 'Not observed').groupby(\n",
    "        [df['student.id'], df['subcompetence.desc']]\n",
    "    ).cumsum()\n",
    "\n",
    "    # Set observed and not observed counts\n",
    "    df['subcompetence.observed_count'] = df.groupby(['student.id', 'subcompetence.desc', 'semesters_from.enrollment'])[\n",
    "        'temp_observed_count'\n",
    "    ].transform('min')\n",
    "\n",
    "    df['subcompetence.notobserved_count'] = df.groupby(['student.id', 'subcompetence.desc', 'semesters_from.enrollment'])[\n",
    "        'temp_notobserved_count'\n",
    "    ].transform('min')\n",
    "\n",
    "    # Fill missing values with the temporary counts\n",
    "    df['subcompetence.observed_count'].fillna(df['temp_observed_count'], inplace=True)\n",
    "    df['subcompetence.notobserved_count'].fillna(df['temp_notobserved_count'], inplace=True)\n",
    "\n",
    "    # Optionally drop the temp columns\n",
    "    df.drop(columns=['temp_observed_count', 'temp_notobserved_count'], inplace=True)\n",
    "\n",
    "    return df\n"
   ]
  },
  {
   "cell_type": "code",
   "execution_count": 205,
   "id": "5e22132d",
   "metadata": {},
   "outputs": [],
   "source": [
    "# Adding column for subcompetence.observed_count\n",
    "#full_df = add_count_column(full_df, 'Observed', 'subcompetence.observed_count')\n",
    "full_df = add_observed_notobserved_counts(full_df)"
   ]
  },
  {
   "cell_type": "code",
   "execution_count": 76,
   "id": "6b2a2cff",
   "metadata": {},
   "outputs": [],
   "source": [
    "# Adding column for subcompetence.notobserved_count\n",
    "#full_df = add_count_column(full_df, 'Not observed', 'subcompetence.notobserved_count')"
   ]
  },
  {
   "cell_type": "markdown",
   "id": "209804b3",
   "metadata": {},
   "source": [
    "##### Checking the attributes"
   ]
  },
  {
   "cell_type": "code",
   "execution_count": null,
   "id": "7602d811",
   "metadata": {},
   "outputs": [],
   "source": [
    "# Checking observed\n",
    "# full_df[(full_df['student.id'] == 60775)\n",
    "#         & (full_df['subcompetence.desc'] == 'Critical thinking')][['subcompetence.level_assigned', \n",
    "#                                                                    'term_period.id',\n",
    "#                                                                    'semesters_from.enrollment',\n",
    "#                                                                    'subcompetence.level_required',\n",
    "#                                                                    'observed_count',\n",
    "#                                                                    'notobserved_count']]"
   ]
  },
  {
   "cell_type": "code",
   "execution_count": null,
   "id": "d6c0767d",
   "metadata": {},
   "outputs": [],
   "source": [
    "# Checking Not observed\n",
    "#TODO Verify if it is correct to keep it this way, considering that if the subcomp is observed once in the semester it is observed\n",
    "full_df[(full_df['student.id'] == 7299)\n",
    "        & (full_df['subcompetence.desc'] == 'Scientific thought')][['subcompetence.level_assigned', \n",
    "                                                                   'term_period.id',\n",
    "                                                                   'semesters_from.enrollment',\n",
    "                                                                   'subcompetence.level_required',\n",
    "                                                                   'subcompetence.observed_count',\n",
    "                                                                   'subcompetence.notobserved_count']]"
   ]
  },
  {
   "cell_type": "code",
   "execution_count": null,
   "id": "a15c854b",
   "metadata": {},
   "outputs": [],
   "source": [
    "full_df['semesters_from.enrollment'].unique()"
   ]
  },
  {
   "cell_type": "markdown",
   "id": "144da531",
   "metadata": {},
   "source": [
    "### 2.30 Drop rows with `subcompetence.level_assigned == NaN`\n",
    "\n",
    "**Considerations**\n",
    "> Null values for level_assigned are $\\approx3.4\\%$ of the rows. \n",
    ">\n",
    "> We can't be assume them as Observed or Not observed. \n",
    ">\n",
    "> We will analyze them to check if there is another evaluation with the same attribute except for the level_assigned, so, we can impute them.\n",
    ">\n",
    "> There are 57,482 rows with level_assigned == NaN and obeserved count == NaN or notobserved_count == NaN\n",
    ">\n",
    "> We drop them. 57,482 rows with null values in level_assigned dropped. 4,351,567 rows remaining."
   ]
  },
  {
   "cell_type": "code",
   "execution_count": null,
   "id": "05286107",
   "metadata": {},
   "outputs": [],
   "source": [
    "# Listing amount by values\n",
    "full_df['subcompetence.observed_count'].value_counts(dropna=False, normalize=True) *100"
   ]
  },
  {
   "cell_type": "code",
   "execution_count": null,
   "id": "bb7db9bc",
   "metadata": {},
   "outputs": [],
   "source": [
    "# Counting the rows with level_assigned == nan and observed count == NaN or notobserved_count == NaN\n",
    "temp_df = full_df[(full_df['subcompetence.level_assigned'].isna()) &\n",
    "                 ((full_df['subcompetence.observed_count'].isna()) |\n",
    "                  (full_df['subcompetence.notobserved_count'].isna()))]\n",
    "print(f'There are {len(temp_df.index)} rows with level_assigned == NaN and observed count == NaN or notobserved_count == NaN')"
   ]
  },
  {
   "cell_type": "code",
   "execution_count": null,
   "id": "b68ece36",
   "metadata": {
    "scrolled": true
   },
   "outputs": [],
   "source": [
    "size_before = len(full_df.index)\n",
    "full_df.dropna(subset=['subcompetence.level_assigned'], inplace=True)\n",
    "print(f'{size_before-len(full_df.index)} rows with null values in level_assigned dropped.')\n",
    "print(f'New dataset has {len(full_df.index)} rows.')"
   ]
  },
  {
   "cell_type": "markdown",
   "id": "1969fa55",
   "metadata": {},
   "source": [
    "### 2.31 Transform `subcompetence.level_assigned` to a Bool attribute `== True if at-least once is Observed else False`\n",
    "\n",
    "**Assummption**\n",
    "> There aren't any row with subcompetence.level_assigned == NaN. "
   ]
  },
  {
   "cell_type": "code",
   "execution_count": 212,
   "id": "d4a910b6",
   "metadata": {},
   "outputs": [],
   "source": [
    "# Transform level_assigned to a Bool attribute\n",
    "full_df['subcompetence.level_assigned'] = full_df['subcompetence.level_assigned'] == 'Observed'"
   ]
  },
  {
   "cell_type": "code",
   "execution_count": null,
   "id": "5584193c",
   "metadata": {},
   "outputs": [],
   "source": [
    "full_df.dtypes"
   ]
  },
  {
   "cell_type": "code",
   "execution_count": 213,
   "id": "99789e7c",
   "metadata": {},
   "outputs": [],
   "source": [
    "assert full_df[(full_df['student.id'] == 9455) & \n",
    "               (full_df['subcompetence.equivalent_key'] == 'SING0203A') &\n",
    "               (full_df['subject.longName'] == 'Intelligent Logistics Networks')]\\\n",
    "              ['subcompetence.level_assigned'].unique() == [False], \\\n",
    "        'Attribute is wrong computed'"
   ]
  },
  {
   "cell_type": "markdown",
   "id": "841a10b1",
   "metadata": {},
   "source": [
    "**Remark**\n",
    "\n",
    "> Some students have a subcompetence evaluated as not observed for a subject but observed for another subject\n",
    ">\n",
    "> E.g. student.id == 9455 and subcompetence SING0203A is evaluated as Not observed for subject 'Intelligent Logistics Networks' and Observed for 'Physical Experimentation and Statistical Thinking'\n",
    ">\n",
    "> Such a student have the subcompetence according to the model Tec21. \n",
    ">\n",
    "> Can we consider the same or we must consider it as Not observed?\n",
    ">\n",
    "> I have choose to consider it as Not observed to keep the relationship between the numerical qualification and the subcompetence.level_required"
   ]
  },
  {
   "cell_type": "code",
   "execution_count": null,
   "id": "0b09437e",
   "metadata": {},
   "outputs": [],
   "source": [
    "full_df[(full_df['student.id'] == 9455) & \n",
    "               (full_df['subcompetence.equivalent_key'] == 'SING0203A')]\\\n",
    "              ['subcompetence.level_assigned'].unique()"
   ]
  },
  {
   "cell_type": "code",
   "execution_count": null,
   "id": "8a1d5ff6",
   "metadata": {},
   "outputs": [],
   "source": [
    "full_df[(full_df['student.id'] == 9455) & \n",
    "               (full_df['subcompetence.equivalent_key'] == 'SING0203A') &\n",
    "               (full_df['subcompetence.level_assigned'] == False)] \\\n",
    "              ['subject.longName'].unique()"
   ]
  },
  {
   "cell_type": "code",
   "execution_count": null,
   "id": "54f98423",
   "metadata": {},
   "outputs": [],
   "source": [
    "full_df[(full_df['student.id'] == 9455) & \n",
    "               (full_df['subcompetence.equivalent_key'] == 'SING0203A') &\n",
    "               (full_df['subcompetence.level_assigned'] == True)] \\\n",
    "              ['subject.longName'].unique()"
   ]
  },
  {
   "cell_type": "code",
   "execution_count": null,
   "id": "d1b227d4",
   "metadata": {
    "scrolled": false
   },
   "outputs": [],
   "source": [
    "pd.set_option('display.max_column', None)\n",
    "pd.set_option('display.max_row', None)\n",
    "full_df[full_df['student.id'] == 53423]\n",
    "#student.id == 31509 comienza directamente en 2do semestre, no hay información de su 1er semestre, \n",
    "# es de la cohorte 2019 pero la información recogida sobre él es de 2021AD y 2022FJ\n",
    "#full_df[(full_df['program.major_id'] == 'ITC')]['student.id']\n",
    "# 38515 35582 32779 57630 13183 53423 53423 32779 31509"
   ]
  },
  {
   "cell_type": "markdown",
   "id": "af4b027e",
   "metadata": {},
   "source": [
    "### 2.32 Drop `student.id` after merging all rows"
   ]
  },
  {
   "cell_type": "code",
   "execution_count": null,
   "id": "9c6909a4",
   "metadata": {},
   "outputs": [],
   "source": [
    "#full_df.drop(columns=['student.id'], inplace=True)"
   ]
  },
  {
   "cell_type": "markdown",
   "id": "1366522d",
   "metadata": {},
   "source": [
    "<hr style=\"border:2px solid gray\">full_df.columns"
   ]
  },
  {
   "cell_type": "markdown",
   "id": "ce8b538c",
   "metadata": {},
   "source": [
    "### Save the dataframe"
   ]
  },
  {
   "cell_type": "code",
   "execution_count": 216,
   "id": "1fec5869",
   "metadata": {},
   "outputs": [],
   "source": [
    "full_df.to_csv(f'EICData/Transformed_full_df_with_studentid_v5.4.csv')"
   ]
  }
 ],
 "metadata": {
  "kernelspec": {
   "display_name": "jupytercudaenv",
   "language": "python",
   "name": "python3"
  },
  "language_info": {
   "codemirror_mode": {
    "name": "ipython",
    "version": 3
   },
   "file_extension": ".py",
   "mimetype": "text/x-python",
   "name": "python",
   "nbconvert_exporter": "python",
   "pygments_lexer": "ipython3",
   "version": "3.8.3"
  }
 },
 "nbformat": 4,
 "nbformat_minor": 5
}
